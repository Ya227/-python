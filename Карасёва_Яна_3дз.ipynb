{
  "nbformat": 4,
  "nbformat_minor": 0,
  "metadata": {
    "colab": {
      "provenance": [],
      "authorship_tag": "ABX9TyPHi/1Sw5C59HKwndCYz55G",
      "include_colab_link": true
    },
    "kernelspec": {
      "name": "python3",
      "display_name": "Python 3"
    },
    "language_info": {
      "name": "python"
    }
  },
  "cells": [
    {
      "cell_type": "markdown",
      "metadata": {
        "id": "view-in-github",
        "colab_type": "text"
      },
      "source": [
        "<a href=\"https://colab.research.google.com/github/Ya227/-python/blob/main/%D0%9A%D0%B0%D1%80%D0%B0%D1%81%D1%91%D0%B2%D0%B0_%D0%AF%D0%BD%D0%B0_3%D0%B4%D0%B7.ipynb\" target=\"_parent\"><img src=\"https://colab.research.google.com/assets/colab-badge.svg\" alt=\"Open In Colab\"/></a>"
      ]
    },
    {
      "cell_type": "markdown",
      "source": [
        "# Dictionary"
      ],
      "metadata": {
        "id": "40uJbGUPSAyg"
      }
    },
    {
      "cell_type": "markdown",
      "source": [
        "Подсчет частоты слов: Напишите функцию, которая принимает строку и возвращает словарь, где ключи — это слова, а значения — их частота в строке."
      ],
      "metadata": {
        "id": "6y5UsW5IR_F5"
      }
    },
    {
      "cell_type": "code",
      "source": [
        "def f(str):\n",
        "    dic = {}\n",
        "    mas = str.split(' ')\n",
        "    mas2 = set(mas)\n",
        "    for el in mas2:\n",
        "        c = mas.count(el)\n",
        "        dic[el] = c\n",
        "    return dic\n",
        "\n",
        "\n",
        "str = \"hello hello df df df asd\"\n",
        "print(f(str))"
      ],
      "metadata": {
        "colab": {
          "base_uri": "https://localhost:8080/"
        },
        "id": "KEVuuwGnSOsT",
        "outputId": "e8688d47-6c2d-45c4-dbba-7951bd60ee27"
      },
      "execution_count": null,
      "outputs": [
        {
          "output_type": "stream",
          "name": "stdout",
          "text": [
            "{'asd': 1, 'df': 3, 'hello': 2}\n"
          ]
        }
      ]
    },
    {
      "cell_type": "markdown",
      "source": [
        "Инвертирование словаря: Напишите функцию, которая принимает словарь и возвращает новый словарь, где ключи и значения поменяны местами. Если значения не уникальны, объедините ключи в список."
      ],
      "metadata": {
        "id": "GV0OvpE1jP4M"
      }
    },
    {
      "cell_type": "code",
      "source": [
        "def replace(dic1):\n",
        "    dic2 = {}\n",
        "    for key, value in dic1.items():\n",
        "        if value in dic2:\n",
        "            dic2[value].append(key)\n",
        "        else:\n",
        "            dic2[value] = [key]\n",
        "\n",
        "    for key, value in dic2.items():\n",
        "        if len(value) == 1:\n",
        "            dic2[key] = value[0]\n",
        "\n",
        "    return dic2\n",
        "\n",
        "\n",
        "dic1 = {\"a\":\"aa\", \"b\":\"bb\", \"c\":\"cc\", \"d\":\"bb\", \"e\":\"bb\"}\n",
        "print(replace(dic1))"
      ],
      "metadata": {
        "id": "-Gm0gdAgjRDu",
        "colab": {
          "base_uri": "https://localhost:8080/"
        },
        "outputId": "99b1db8f-dfc1-4ec8-aaf8-8858c6927418"
      },
      "execution_count": 2,
      "outputs": [
        {
          "output_type": "stream",
          "name": "stdout",
          "text": [
            "{'aa': 'a', 'bb': ['b', 'd', 'e'], 'cc': 'c'}\n"
          ]
        }
      ]
    },
    {
      "cell_type": "markdown",
      "source": [
        "Слияние словарей: Напишите функцию, которая принимает два словаря и возвращает новый словарь, содержащий все ключи из обоих словарей. Если ключи совпадают, значения должны быть суммированы."
      ],
      "metadata": {
        "id": "o60_v5bwo2Ds"
      }
    },
    {
      "cell_type": "code",
      "source": [
        "def merger(dic1, dic2):\n",
        "    dic3 = dic1.copy()\n",
        "    for key, value in dic2.items():\n",
        "        if key in dic3:\n",
        "            dic3[key] += value\n",
        "        else:\n",
        "            dic3[key] = value\n",
        "    return dic3\n",
        "\n",
        "dic1 = {\"a\":\"aa\", \"c\":\"cc\"}\n",
        "dic2 = {\"a\":\"bb\", \"d\":\"dd\"}\n",
        "print(merger(dic1, dic2))"
      ],
      "metadata": {
        "id": "YdR_1mTco22b",
        "colab": {
          "base_uri": "https://localhost:8080/"
        },
        "outputId": "b648f988-2894-41bc-f7e5-157b983c1b62"
      },
      "execution_count": 3,
      "outputs": [
        {
          "output_type": "stream",
          "name": "stdout",
          "text": [
            "{'a': 'aabb', 'c': 'cc', 'd': 'dd'}\n"
          ]
        }
      ]
    },
    {
      "cell_type": "markdown",
      "source": [
        "Фильтрация по значению: Напишите функцию, которая принимает словарь и пороговое значение, и возвращает новый словарь, содержащий только те пары ключ-значение, где значение больше порогового."
      ],
      "metadata": {
        "id": "TSnBsP6ldi8u"
      }
    },
    {
      "cell_type": "code",
      "source": [
        "def filtr(dict, a):\n",
        "    dict2 = {}\n",
        "    for key, value in dict.items():\n",
        "        if(value > a):\n",
        "            dict2[key] = value\n",
        "    return dict2\n",
        "\n",
        "dict = {\"a\":23, \"b\":1, \"c\": 5, \"d\":10}\n",
        "a = 5\n",
        "print(filtr(dict, a))"
      ],
      "metadata": {
        "id": "s_HZ31ipdm0R",
        "colab": {
          "base_uri": "https://localhost:8080/"
        },
        "outputId": "27a9f9e4-67b2-4e1d-c484-8887bcd77bb1"
      },
      "execution_count": 4,
      "outputs": [
        {
          "output_type": "stream",
          "name": "stdout",
          "text": [
            "{'a': 23, 'd': 10}\n"
          ]
        }
      ]
    },
    {
      "cell_type": "markdown",
      "source": [
        "Максимальное значение: Напишите функцию, которая находит ключ с максимальным значением в словаре."
      ],
      "metadata": {
        "id": "wtZryGWftTOo"
      }
    },
    {
      "cell_type": "code",
      "source": [
        "def max_key(dict):\n",
        "    m = max(dict.values())\n",
        "    for key in dict:\n",
        "        if dict[key] == m:\n",
        "            return key\n",
        "\n",
        "dict = {1:\"a\", 2:\"s\", 3:\"d\", 0:\"f\", 4:\"g\"}\n",
        "print(max_key(dict))"
      ],
      "metadata": {
        "id": "O-omsE_TtUmy",
        "colab": {
          "base_uri": "https://localhost:8080/"
        },
        "outputId": "906bec8e-cba9-44af-8eb5-1d3a7bb84853"
      },
      "execution_count": 5,
      "outputs": [
        {
          "output_type": "stream",
          "name": "stdout",
          "text": [
            "2\n"
          ]
        }
      ]
    },
    {
      "cell_type": "markdown",
      "source": [
        "Минимальное значение: Напишите функцию, которая находит ключ с минимальным значением в словаре."
      ],
      "metadata": {
        "id": "w9HpRI_MuqY3"
      }
    },
    {
      "cell_type": "code",
      "source": [
        "def min_key(dict):\n",
        "    m = min(dict.values())\n",
        "    for key in dict:\n",
        "        if dict[key] == m:\n",
        "            return key\n",
        "\n",
        "dict = {1:\"a\", 2:\"s\", 3:\"d\", 0:\"f\", 4:\"g\"}\n",
        "print(min_key(dict))"
      ],
      "metadata": {
        "id": "o8HPyZhouwSy",
        "colab": {
          "base_uri": "https://localhost:8080/"
        },
        "outputId": "34e66fe6-02a5-49e3-ef48-6509ddde51e5"
      },
      "execution_count": 6,
      "outputs": [
        {
          "output_type": "stream",
          "name": "stdout",
          "text": [
            "1\n"
          ]
        }
      ]
    },
    {
      "cell_type": "markdown",
      "source": [
        "Удаление ключей: Напишите функцию, которая принимает словарь и список ключей, и удаляет из словаря все указанные ключи."
      ],
      "metadata": {
        "id": "_LK7xEPvwhDP"
      }
    },
    {
      "cell_type": "code",
      "source": [
        "def delet(dict, keys):\n",
        "    for key in keys:\n",
        "        if key in dict:\n",
        "            del dict[key]\n",
        "    return dict\n",
        "\n",
        "dict = {\"a\":1, \"b\":2, \"c\":3, \"d\":4}\n",
        "keys = [\"b\", \"a\"]\n",
        "print(delet(dict, keys))"
      ],
      "metadata": {
        "id": "dzL7H0lmxONT",
        "colab": {
          "base_uri": "https://localhost:8080/"
        },
        "outputId": "d2666b2a-c628-4485-9e5f-f42155ec8178"
      },
      "execution_count": 7,
      "outputs": [
        {
          "output_type": "stream",
          "name": "stdout",
          "text": [
            "{'c': 3, 'd': 4}\n"
          ]
        }
      ]
    },
    {
      "cell_type": "markdown",
      "source": [
        "Группировка по длине ключей: Напишите функцию, которая группирует ключи словаря по их длине и возвращает словарь, где ключи — это длины, а значения — списки ключей соответствующей длины."
      ],
      "metadata": {
        "id": "prceZniVxQZp"
      }
    },
    {
      "cell_type": "code",
      "source": [
        "def gr(dict):\n",
        "    dict2 = {}\n",
        "    for key in dict:\n",
        "        l = len(key)\n",
        "        if l in dict2:\n",
        "            dict2[l].append(key)\n",
        "        else:\n",
        "            dict2[l] = [key]\n",
        "\n",
        "    return dict2\n",
        "\n",
        "dict = {\"a\":1, \"b\":2, \"cc\":3, \"ddd\":4}\n",
        "print(gr(dict))"
      ],
      "metadata": {
        "id": "AnrWmopgxRIR",
        "colab": {
          "base_uri": "https://localhost:8080/"
        },
        "outputId": "ec6e293b-8d8b-4d9a-e2bf-260e4324b5d2"
      },
      "execution_count": 8,
      "outputs": [
        {
          "output_type": "stream",
          "name": "stdout",
          "text": [
            "{1: ['a', 'b'], 2: ['cc'], 3: ['ddd']}\n"
          ]
        }
      ]
    },
    {
      "cell_type": "markdown",
      "source": [
        "Поиск ключей по значению: Напишите функцию, которая принимает словарь и значение, и возвращает список всех ключей, связанных с этим значением."
      ],
      "metadata": {
        "id": "e9nIASO0zUOq"
      }
    },
    {
      "cell_type": "code",
      "source": [
        "def search(dict, val):\n",
        "    keys = []\n",
        "    for key in dict:\n",
        "        if dict[key] == val:\n",
        "            keys.append(key)\n",
        "    return keys\n",
        "\n",
        "dict = {\"a\":1, \"b\":2, \"c\":3, \"aa\":1, \"bb\":2, \"aaa\":1}\n",
        "val = 1\n",
        "print(search(dict, val))"
      ],
      "metadata": {
        "id": "lt8yhCZgzVve",
        "colab": {
          "base_uri": "https://localhost:8080/"
        },
        "outputId": "d1fcc92f-0ab4-48a9-faa2-cd14a7ff6c82"
      },
      "execution_count": 9,
      "outputs": [
        {
          "output_type": "stream",
          "name": "stdout",
          "text": [
            "['a', 'aa', 'aaa']\n"
          ]
        }
      ]
    },
    {
      "cell_type": "markdown",
      "source": [
        "Уникальные значения: Напишите функцию, которая возвращает множество уникальных значений из словаря."
      ],
      "metadata": {
        "id": "uKtk4FOP0vDt"
      }
    },
    {
      "cell_type": "code",
      "source": [
        "def s(dict):\n",
        "    return set(dict.values())\n",
        "\n",
        "dict = {\"a\":1, \"b\":2, \"c\":3, \"aa\":1, \"bb\":2, \"aaa\":1}\n",
        "print(s(dict))"
      ],
      "metadata": {
        "id": "uN3s-Ejx0vww",
        "colab": {
          "base_uri": "https://localhost:8080/"
        },
        "outputId": "432354cd-de96-460d-877f-a6db87cee881"
      },
      "execution_count": 10,
      "outputs": [
        {
          "output_type": "stream",
          "name": "stdout",
          "text": [
            "{1, 2, 3}\n"
          ]
        }
      ]
    },
    {
      "cell_type": "markdown",
      "source": [
        "# Множества"
      ],
      "metadata": {
        "id": "OZg40paQKzyi"
      }
    },
    {
      "cell_type": "markdown",
      "source": [
        "Удаление элементов: Напишите функцию, которая удаляет из множества все элементы, присутствующие в списке."
      ],
      "metadata": {
        "id": "AJxu1EDbK26u"
      }
    },
    {
      "cell_type": "code",
      "source": [
        "def delet(set1, list1):\n",
        "    for el in list1:\n",
        "        if el in set1:\n",
        "            set1.remove(el)\n",
        "    return set1\n",
        "\n",
        "set1 = {1, 2, 3, 4, 5}\n",
        "list1 = [1, 3, 5]\n",
        "print(delet(set1, list1))"
      ],
      "metadata": {
        "colab": {
          "base_uri": "https://localhost:8080/"
        },
        "id": "aD8kn-1hK3yu",
        "outputId": "10b474b3-cd3c-47a3-c0d0-ebcb73e33084"
      },
      "execution_count": 18,
      "outputs": [
        {
          "output_type": "stream",
          "name": "stdout",
          "text": [
            "{2, 4}\n"
          ]
        }
      ]
    },
    {
      "cell_type": "markdown",
      "source": [
        "Элементы, встречающиеся только в одном множестве: Напишите функцию, которая находит элементы, которые есть только в одном из двух множеств."
      ],
      "metadata": {
        "id": "R9f0AzRRL58I"
      }
    },
    {
      "cell_type": "code",
      "source": [
        "def s(set1, set2):\n",
        "    set3 = set()\n",
        "    for el in set1:\n",
        "        if el not in set2:\n",
        "            set3.add(el)\n",
        "    return set3\n",
        "\n",
        "set1 = {1, 2, 3, 4, 5}\n",
        "set2 = {2, 4, 6, 8}\n",
        "print(s(set1, set2))"
      ],
      "metadata": {
        "colab": {
          "base_uri": "https://localhost:8080/"
        },
        "id": "NQBu7FPbTx43",
        "outputId": "aa71c212-a383-4965-dd79-5d090aa0a8da"
      },
      "execution_count": 9,
      "outputs": [
        {
          "output_type": "stream",
          "name": "stdout",
          "text": [
            "{1, 3, 5}\n"
          ]
        }
      ]
    },
    {
      "cell_type": "markdown",
      "source": [
        "Общие элементы: Напишите функцию, которая находит общие элементы двух списков с помощью множеств."
      ],
      "metadata": {
        "id": "c5U9IDJxPIi5"
      }
    },
    {
      "cell_type": "code",
      "source": [
        "def s(list1, list2):\n",
        "    set1 = set(list1)\n",
        "    set2 = set(list2)\n",
        "    return set1.intersection(set2)\n",
        "\n",
        "list1 = [1, 2, 3, 4, 5]\n",
        "list2 = [2, 4, 6, 8]\n",
        "print(s(list1, list2))"
      ],
      "metadata": {
        "colab": {
          "base_uri": "https://localhost:8080/"
        },
        "id": "RkUgIJseQyX_",
        "outputId": "79d64e49-5ceb-475e-8e98-1840dc8baad1"
      },
      "execution_count": 10,
      "outputs": [
        {
          "output_type": "stream",
          "name": "stdout",
          "text": [
            "{2, 4}\n"
          ]
        }
      ]
    },
    {
      "cell_type": "markdown",
      "source": [
        "Проверка на пустоту: Напишите функцию, которая проверяет, является ли множество пустым."
      ],
      "metadata": {
        "id": "hTxqWBqYQGQW"
      }
    },
    {
      "cell_type": "code",
      "source": [
        "def isempty(set1):\n",
        "    if len(set1) == 0:\n",
        "        return True\n",
        "    return False\n",
        "\n",
        "set1 = {1, 2, 3, 4, 5}\n",
        "set2 = set()\n",
        "print(isempty(set1))\n",
        "print(isempty(set2))"
      ],
      "metadata": {
        "colab": {
          "base_uri": "https://localhost:8080/"
        },
        "id": "kc-rDX3BVrbm",
        "outputId": "8ac9290e-d4f5-4fc1-f8d8-42afa9d76321"
      },
      "execution_count": 11,
      "outputs": [
        {
          "output_type": "stream",
          "name": "stdout",
          "text": [
            "False\n",
            "True\n"
          ]
        }
      ]
    },
    {
      "cell_type": "markdown",
      "source": [
        "Количество уникальных элементов: Напишите функцию, которая возвращает количество уникальных элементов в списке с помощью множества."
      ],
      "metadata": {
        "id": "nVIe-PMJSKJm"
      }
    },
    {
      "cell_type": "code",
      "source": [
        "def s(list):\n",
        "    n = len(list)\n",
        "    l = len(set(list))\n",
        "    return l - (n - l)\n",
        "\n",
        "list = [1, 2, 3, 4, 5, 2, 3]\n",
        "print(s(list))"
      ],
      "metadata": {
        "colab": {
          "base_uri": "https://localhost:8080/"
        },
        "id": "Lw85MUuGTrXM",
        "outputId": "8fbd266d-25c1-4056-924b-633f41544278"
      },
      "execution_count": 12,
      "outputs": [
        {
          "output_type": "stream",
          "name": "stdout",
          "text": [
            "3\n"
          ]
        }
      ]
    },
    {
      "cell_type": "markdown",
      "source": [
        "Максимальный элемент: Напишите функцию, которая находит максимальный элемент в множестве."
      ],
      "metadata": {
        "id": "xciPcYytT1rs"
      }
    },
    {
      "cell_type": "code",
      "source": [
        "def s(set):\n",
        "    return max(set)\n",
        "\n",
        "set = {2, 6, 1, 4, 5}\n",
        "print(s(set))"
      ],
      "metadata": {
        "colab": {
          "base_uri": "https://localhost:8080/"
        },
        "id": "-TlE5uBuT09g",
        "outputId": "b2532611-934d-4517-ed69-e350cbe3aefc"
      },
      "execution_count": 13,
      "outputs": [
        {
          "output_type": "stream",
          "name": "stdout",
          "text": [
            "6\n"
          ]
        }
      ]
    },
    {
      "cell_type": "markdown",
      "source": [
        "Минимальный элемент: Напишите функцию, которая находит минимальный элемент в множестве."
      ],
      "metadata": {
        "id": "fUcBUuz_UIvp"
      }
    },
    {
      "cell_type": "code",
      "source": [
        "def s(set):\n",
        "    return min(set)\n",
        "\n",
        "set = {2, 6, 1, 4, 5}\n",
        "print(s(set))"
      ],
      "metadata": {
        "colab": {
          "base_uri": "https://localhost:8080/"
        },
        "id": "IajTz74WSLMD",
        "outputId": "82526587-0c18-4afa-fe6e-38e05ffe6244"
      },
      "execution_count": 14,
      "outputs": [
        {
          "output_type": "stream",
          "name": "stdout",
          "text": [
            "1\n"
          ]
        }
      ]
    },
    {
      "cell_type": "markdown",
      "source": [
        "Сортировка множества: Напишите функцию, которая преобразует множество в отсортированный список."
      ],
      "metadata": {
        "id": "Bb5aNnJLUPyh"
      }
    },
    {
      "cell_type": "code",
      "source": [
        "def s(set):\n",
        "    return sorted(set)\n",
        "\n",
        "set = {2, 6, 1, 4, 5, -12, 98, 0}\n",
        "print(s(set))"
      ],
      "metadata": {
        "colab": {
          "base_uri": "https://localhost:8080/"
        },
        "id": "gKyjjlVnUQp8",
        "outputId": "f5456355-02ae-4abf-a4f4-d2722f7e69c3"
      },
      "execution_count": 15,
      "outputs": [
        {
          "output_type": "stream",
          "name": "stdout",
          "text": [
            "[-12, 0, 1, 2, 4, 5, 6, 98]\n"
          ]
        }
      ]
    },
    {
      "cell_type": "markdown",
      "source": [
        "Объединение нескольких множеств: Напишите функцию, которая принимает список множеств и возвращает их объединение."
      ],
      "metadata": {
        "id": "DyAwdm2tVyP0"
      }
    },
    {
      "cell_type": "code",
      "source": [
        "def f(sett):\n",
        "    nsett = set()\n",
        "    for el in sett:\n",
        "        nsett = nsett.union(el)\n",
        "    return nsett\n",
        "\n",
        "sett = [{1, 2}, {2, 3}, {3, 2}, {2, 5}]\n",
        "print(f(sett))"
      ],
      "metadata": {
        "id": "6jX5obumrGsD"
      },
      "execution_count": null,
      "outputs": []
    },
    {
      "cell_type": "markdown",
      "source": [
        "Пересечение нескольких множеств: Напишите функцию, которая принимает список множеств и возвращает их пересечение."
      ],
      "metadata": {
        "id": "2tmrC5G5WgSt"
      }
    },
    {
      "cell_type": "code",
      "source": [
        "def f(sett):\n",
        "    nsett = sett[0]\n",
        "    for el in sett[1:]:\n",
        "        nsett &= el\n",
        "    return nsett\n",
        "\n",
        "sett = [{1, 2, 3}, {2, 3}, {3, 4}, {4, 5, 3}]\n",
        "print(f(sett))"
      ],
      "metadata": {
        "colab": {
          "base_uri": "https://localhost:8080/"
        },
        "id": "fHctOSKtWg8m",
        "outputId": "d5d73b33-26f5-4900-f263-e4d0c72c0f1b"
      },
      "execution_count": 17,
      "outputs": [
        {
          "output_type": "stream",
          "name": "stdout",
          "text": [
            "{3}\n"
          ]
        }
      ]
    },
    {
      "cell_type": "markdown",
      "source": [
        "# Tuple"
      ],
      "metadata": {
        "id": "q_5zo1-wYAPb"
      }
    },
    {
      "cell_type": "markdown",
      "source": [
        "Вложенные кортежи: Напишите функцию, которая создает вложенный кортеж, где первый уровень — это буквы алфавита, а второй уровень — числа от 1 до 5.\n",
        "\n"
      ],
      "metadata": {
        "id": "wB0gsEbra1-Q"
      }
    },
    {
      "cell_type": "code",
      "source": [
        "def f():\n",
        "    alph = 'abcdefghijklmnopqrstuvwxyz'\n",
        "    num = tuple(range(1, 6))\n",
        "    res = tuple((a, num) for a in alph)\n",
        "    return res\n",
        "\n",
        "tuple1 = f()\n",
        "print(tuple1)"
      ],
      "metadata": {
        "colab": {
          "base_uri": "https://localhost:8080/"
        },
        "id": "oYRdXWqTa27C",
        "outputId": "b9fa475c-29cf-462e-9ca6-f072e5d6b1d0"
      },
      "execution_count": 1,
      "outputs": [
        {
          "output_type": "stream",
          "name": "stdout",
          "text": [
            "(('a', (1, 2, 3, 4, 5)), ('b', (1, 2, 3, 4, 5)), ('c', (1, 2, 3, 4, 5)), ('d', (1, 2, 3, 4, 5)), ('e', (1, 2, 3, 4, 5)), ('f', (1, 2, 3, 4, 5)), ('g', (1, 2, 3, 4, 5)), ('h', (1, 2, 3, 4, 5)), ('i', (1, 2, 3, 4, 5)), ('j', (1, 2, 3, 4, 5)), ('k', (1, 2, 3, 4, 5)), ('l', (1, 2, 3, 4, 5)), ('m', (1, 2, 3, 4, 5)), ('n', (1, 2, 3, 4, 5)), ('o', (1, 2, 3, 4, 5)), ('p', (1, 2, 3, 4, 5)), ('q', (1, 2, 3, 4, 5)), ('r', (1, 2, 3, 4, 5)), ('s', (1, 2, 3, 4, 5)), ('t', (1, 2, 3, 4, 5)), ('u', (1, 2, 3, 4, 5)), ('v', (1, 2, 3, 4, 5)), ('w', (1, 2, 3, 4, 5)), ('x', (1, 2, 3, 4, 5)), ('y', (1, 2, 3, 4, 5)), ('z', (1, 2, 3, 4, 5)))\n"
          ]
        }
      ]
    },
    {
      "cell_type": "markdown",
      "source": [
        "Кортеж из двух списков: Напишите функцию, которая создает кортеж пар из двух списков одинаковой длины."
      ],
      "metadata": {
        "id": "3k_apDF6c409"
      }
    },
    {
      "cell_type": "code",
      "source": [
        "def f(list1, list2):\n",
        "    res = []\n",
        "    for i in range (len(list1)):\n",
        "        res.append((list1[i], list2[i]))\n",
        "    return tuple(res)\n",
        "\n",
        "list1 = [1, 2, 3]\n",
        "list2 = ['a', 'b', 'c']\n",
        "print(f(list1, list2))"
      ],
      "metadata": {
        "colab": {
          "base_uri": "https://localhost:8080/"
        },
        "id": "1xwa7jihdYvr",
        "outputId": "2276ef27-4cb5-4f39-d8b8-52c191b602c8"
      },
      "execution_count": 2,
      "outputs": [
        {
          "output_type": "stream",
          "name": "stdout",
          "text": [
            "((1, 'a'), (2, 'b'), (3, 'c'))\n"
          ]
        }
      ]
    },
    {
      "cell_type": "markdown",
      "source": [
        "Перевод кортежа в строку: Напишите функцию, которая преобразует кортеж строк в одну строку, объединяя их через пробел."
      ],
      "metadata": {
        "id": "2aR66ivFfuMT"
      }
    },
    {
      "cell_type": "code",
      "source": [
        "def f(t):\n",
        "    res = t[0]\n",
        "    for el in t[1:]:\n",
        "        res += \" \" + el\n",
        "    return res\n",
        "\n",
        "t = (\"a\", \"b\", \"c\", \"d\", \"e\")\n",
        "print(f(t))"
      ],
      "metadata": {
        "colab": {
          "base_uri": "https://localhost:8080/"
        },
        "id": "2P2nsJAsfu3D",
        "outputId": "242e5e30-ccbd-444b-d0cc-757a2352974f"
      },
      "execution_count": 3,
      "outputs": [
        {
          "output_type": "stream",
          "name": "stdout",
          "text": [
            "a b c d e\n"
          ]
        }
      ]
    },
    {
      "cell_type": "markdown",
      "source": [
        "Перевод строки в кортеж чисел: Напишите функцию, которая преобразует строку чисел, разделенных запятыми, в кортеж чисел."
      ],
      "metadata": {
        "id": "psC1NdrXg9o-"
      }
    },
    {
      "cell_type": "code",
      "source": [
        "def f(s):\n",
        "    l = s.replace(\" \", \"\").split(\",\")\n",
        "    return tuple(map(int, l))\n",
        "\n",
        "s = \"1,2,3,4,5,6\"\n",
        "print(f(s))"
      ],
      "metadata": {
        "colab": {
          "base_uri": "https://localhost:8080/"
        },
        "id": "UA-oYwijg-SX",
        "outputId": "e0686a77-8560-45d7-d2e7-9082337b9974"
      },
      "execution_count": 4,
      "outputs": [
        {
          "output_type": "stream",
          "name": "stdout",
          "text": [
            "(1, 2, 3, 4, 5, 6)\n"
          ]
        }
      ]
    },
    {
      "cell_type": "markdown",
      "source": [
        "Кортеж с четными числами: Напишите функцию, которая создает кортеж, содержащий только четные числа из заданного диапазона."
      ],
      "metadata": {
        "id": "7hHHdGYbkFAp"
      }
    },
    {
      "cell_type": "code",
      "source": [
        "def f(a, b):\n",
        "    res = []\n",
        "    for x in range(a, b+1):\n",
        "        if x % 2 == 0:\n",
        "            res.append(x)\n",
        "    return tuple(res)\n",
        "\n",
        "print(f(-9, 10))"
      ],
      "metadata": {
        "colab": {
          "base_uri": "https://localhost:8080/"
        },
        "id": "zKxp5P1ukFz3",
        "outputId": "bf843d16-f5f0-4bbf-acd7-a184d662684d"
      },
      "execution_count": 5,
      "outputs": [
        {
          "output_type": "stream",
          "name": "stdout",
          "text": [
            "(-8, -6, -4, -2, 0, 2, 4, 6, 8, 10)\n"
          ]
        }
      ]
    },
    {
      "cell_type": "markdown",
      "source": [
        "Кортеж с нечетными числами: Напишите функцию, которая создает кортеж, содержащий только нечетные числа из заданного диапазона."
      ],
      "metadata": {
        "id": "w2w7vGU5l2Ei"
      }
    },
    {
      "cell_type": "code",
      "source": [
        "def f(a, b):\n",
        "    res = []\n",
        "    for x in range(a, b+1):\n",
        "        if x % 2 != 0:\n",
        "            res.append(x)\n",
        "    return tuple(res)\n",
        "\n",
        "print(f(-9, 10))"
      ],
      "metadata": {
        "colab": {
          "base_uri": "https://localhost:8080/"
        },
        "id": "RwrNlY0Ul2kK",
        "outputId": "5c51da8e-24e7-48f2-ff66-0e8a0a207aac"
      },
      "execution_count": 20,
      "outputs": [
        {
          "output_type": "stream",
          "name": "stdout",
          "text": [
            "(-9, -7, -5, -3, -1, 1, 3, 5, 7, 9)\n"
          ]
        }
      ]
    },
    {
      "cell_type": "markdown",
      "source": [
        "Кортеж с простыми числами: Напишите функцию, которая создает кортеж, содержащий только простые числа из заданного диапазона."
      ],
      "metadata": {
        "id": "nWt5F5Fsl7F5"
      }
    },
    {
      "cell_type": "code",
      "source": [
        "def isprime(n):\n",
        "    if n < 0:\n",
        "        n *= -1\n",
        "    if n < 2:\n",
        "       return False\n",
        "    for i in range(2, int(n**0.5) + 1):\n",
        "        if n % i == 0:\n",
        "            return False\n",
        "    return True\n",
        "\n",
        "def f(a, b):\n",
        "    res = []\n",
        "    for x in range(a, b+1):\n",
        "        if isprime(x):\n",
        "            res.append(x)\n",
        "    return tuple(res)\n",
        "\n",
        "print(f(-9, 10))"
      ],
      "metadata": {
        "colab": {
          "base_uri": "https://localhost:8080/"
        },
        "id": "vMTXxNbomV0i",
        "outputId": "50f8f343-1278-4d6e-bb58-2c5b41db7e4d"
      },
      "execution_count": 6,
      "outputs": [
        {
          "output_type": "stream",
          "name": "stdout",
          "text": [
            "(-7, -5, -3, -2, 2, 3, 5, 7)\n"
          ]
        }
      ]
    },
    {
      "cell_type": "markdown",
      "source": [
        "Максимальный элемент: Напишите функцию, которая находит максимальный элемент в кортеже."
      ],
      "metadata": {
        "id": "_OmOQJ5HmVJf"
      }
    },
    {
      "cell_type": "code",
      "source": [
        "def f(t):\n",
        "    return max(t)\n",
        "\n",
        "t = (1, 6, 9, 0, 13, 2)\n",
        "print(f(t))"
      ],
      "metadata": {
        "colab": {
          "base_uri": "https://localhost:8080/"
        },
        "id": "XR0UBVqWoBlF",
        "outputId": "716d192e-6215-4971-aa16-263b735e3896"
      },
      "execution_count": 7,
      "outputs": [
        {
          "output_type": "stream",
          "name": "stdout",
          "text": [
            "13\n"
          ]
        }
      ]
    },
    {
      "cell_type": "markdown",
      "source": [
        "Объединение кортежей: Напишите функцию, которая принимает два кортежа и возвращает их объединение."
      ],
      "metadata": {
        "id": "XBBD9LUBoF06"
      }
    },
    {
      "cell_type": "code",
      "source": [
        "def f(tuple1, tuple2):\n",
        "    return tuple(list(tuple1) + list(tuple2))\n",
        "\n",
        "tuple1 = (1, 2, 3, 4, 5)\n",
        "tuple2 = (6, 7, 8, 9)\n",
        "print(f(tuple1, tuple2))"
      ],
      "metadata": {
        "colab": {
          "base_uri": "https://localhost:8080/"
        },
        "id": "u9cAfH0Mnwr4",
        "outputId": "13dea617-eff6-48c4-bb53-9c9411de3d71"
      },
      "execution_count": 8,
      "outputs": [
        {
          "output_type": "stream",
          "name": "stdout",
          "text": [
            "(1, 2, 3, 4, 5, 6, 7, 8, 9)\n"
          ]
        }
      ]
    },
    {
      "cell_type": "markdown",
      "source": [
        "Проверка на наличие элемента: Напишите функцию, которая проверяет, содержится ли заданный элемент в кортеже."
      ],
      "metadata": {
        "id": "zZswQ4Rsp51P"
      }
    },
    {
      "cell_type": "code",
      "source": [
        "def f(t, x):\n",
        "    if x in t:\n",
        "        return True\n",
        "    return False\n",
        "\n",
        "\n",
        "t = (1, 2, 3, 4, 5)\n",
        "print(f(t, 5))\n",
        "print(f(t, 0))"
      ],
      "metadata": {
        "colab": {
          "base_uri": "https://localhost:8080/"
        },
        "id": "q0c8Jkcyp6hP",
        "outputId": "f393f341-faf9-4ad8-f539-c7be39b3ed1a"
      },
      "execution_count": 22,
      "outputs": [
        {
          "output_type": "stream",
          "name": "stdout",
          "text": [
            "True\n",
            "False\n"
          ]
        }
      ]
    },
    {
      "cell_type": "markdown",
      "source": [
        "# Массив"
      ],
      "metadata": {
        "id": "fwzYkl0Dx0oH"
      }
    },
    {
      "cell_type": "markdown",
      "source": [
        "Дан целочисленный массив A размера 10. Вывести порядковый номер последнего из тех его элементов AK, которые удовлетворяют двойному неравенству A1 < AK < A10. Если таких элементов нет, то вывести 0."
      ],
      "metadata": {
        "id": "xTR46LGwx3aC"
      }
    },
    {
      "cell_type": "code",
      "source": [
        "import random\n",
        "\n",
        "def f(arr):\n",
        "    k = 0\n",
        "    for i in range(10):\n",
        "        if arr[0] < arr[i] < arr[9]:\n",
        "            k = i + 1\n",
        "    return k\n",
        "\n",
        "arr = [random.randint(1, 20) for _ in range(10)]\n",
        "print(arr)\n",
        "print(f(arr))"
      ],
      "metadata": {
        "colab": {
          "base_uri": "https://localhost:8080/"
        },
        "id": "5nlcWYEczrRV",
        "outputId": "6fe6c3ca-7ec7-460b-f433-8c002e244c31"
      },
      "execution_count": 24,
      "outputs": [
        {
          "output_type": "stream",
          "name": "stdout",
          "text": [
            "[5, 2, 7, 16, 5, 9, 9, 8, 3, 19]\n",
            "8\n"
          ]
        }
      ]
    },
    {
      "cell_type": "markdown",
      "source": [
        "Дано число R и массив размера N. Найти два соседних элемента массива, сумма которых наиболее близка к числу R, и вывести эти элементы в порядке возрастания их индексов (определение наиболее близких чисел дано в задании Array40)."
      ],
      "metadata": {
        "id": "83GQOt-3zwWe"
      }
    },
    {
      "cell_type": "code",
      "source": [
        "import random\n",
        "\n",
        "def f(arr, r, n):\n",
        "    if n < 2:\n",
        "        return None\n",
        "    mindiff = float(\"inf\")\n",
        "    pair = None\n",
        "    for i in range(n-1):\n",
        "        s = arr[i] + arr[i+1]\n",
        "        diff = abs(s - r)\n",
        "        if diff < mindiff:\n",
        "            mindiff = diff\n",
        "            pair = (arr[i], arr[i+1])\n",
        "    return pair\n",
        "\n",
        "r = int(input())\n",
        "n = int(input())\n",
        "arr = [random.randint(1, 20) for _ in range(n)]\n",
        "print(arr)\n",
        "print(f(arr, r, n))"
      ],
      "metadata": {
        "colab": {
          "base_uri": "https://localhost:8080/"
        },
        "id": "crtveXNZx25E",
        "outputId": "dd0ae510-d54a-4838-8fde-7151ff47e433"
      },
      "execution_count": 29,
      "outputs": [
        {
          "output_type": "stream",
          "name": "stdout",
          "text": [
            "10\n",
            "5\n",
            "[13, 7, 5, 6, 16]\n",
            "(5, 6)\n"
          ]
        }
      ]
    },
    {
      "cell_type": "markdown",
      "source": [
        "Дан целочисленный массив размера N. Удалить из массива все элементы, встречающиеся менее трех раз, и вывести размер полученного массива и его содержимое."
      ],
      "metadata": {
        "id": "RjvBBlUj7GuI"
      }
    },
    {
      "cell_type": "code",
      "source": [
        "import random\n",
        "\n",
        "def f(arr, n):\n",
        "    newarr = []\n",
        "    k = 0\n",
        "    for el in arr:\n",
        "        c = arr.count(el)\n",
        "        if c >= 3:\n",
        "            newarr.append(el)\n",
        "    return newarr\n",
        "\n",
        "n = int(input())\n",
        "arr = [random.randint(1, 5) for _ in range(n)]\n",
        "print(arr)\n",
        "a = f(arr, n)\n",
        "print(a, '\\n', len(a))"
      ],
      "metadata": {
        "colab": {
          "base_uri": "https://localhost:8080/"
        },
        "id": "GO_q6PTq7HbY",
        "outputId": "1e9ea420-3e42-43c7-f80d-f121dc7c9efb"
      },
      "execution_count": 30,
      "outputs": [
        {
          "output_type": "stream",
          "name": "stdout",
          "text": [
            "10\n",
            "[5, 3, 4, 3, 4, 2, 1, 1, 2, 3]\n",
            "[3, 3, 3] \n",
            " 3\n"
          ]
        }
      ]
    },
    {
      "cell_type": "markdown",
      "source": [
        "Дана действительная квадратная матрица порядка n. Найти наибольшее из значений элементов, расположенных в заштрихованной части матрицы.\n",
        "\n",
        "a) b) c) d)\n",
        "\n",
        "![image.png](data:image/png;base64,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)"
      ],
      "metadata": {
        "id": "lH4rhLHx_16D"
      }
    },
    {
      "cell_type": "code",
      "source": [
        "import random\n",
        "\n",
        "def f(arr, n):\n",
        "    a, b, c, d = 0, 0, 0, 0\n",
        "    for i in range(n):\n",
        "        for j in range(n):\n",
        "            if (j >= i) & (arr[i][j] > a):\n",
        "                a = arr[i][j]\n",
        "            if (j <= i) & (arr[i][j] > b):\n",
        "                b = arr[i][j]\n",
        "            if (j + i <= n - 1) & (arr[i][j] > c):\n",
        "                c = arr[i][j]\n",
        "            if (j + i >= n - 1) & (arr[i][j] > d):\n",
        "                d = arr[i][j]\n",
        "    return a, b, c, d\n",
        "\n",
        "n = int(input())\n",
        "arr = [[random.randint(1, 20) for i in range(n)] for j in range(n)]\n",
        "for i in range(n):\n",
        "    print(arr[i])\n",
        "print(f(arr, n))"
      ],
      "metadata": {
        "colab": {
          "base_uri": "https://localhost:8080/"
        },
        "id": "x-fqt5e9ARUu",
        "outputId": "0b7bff2c-beb4-4adc-a12e-884d59e85726"
      },
      "execution_count": 33,
      "outputs": [
        {
          "output_type": "stream",
          "name": "stdout",
          "text": [
            "4\n",
            "[14, 16, 9, 8]\n",
            "[10, 19, 14, 15]\n",
            "[10, 15, 14, 7]\n",
            "[15, 20, 12, 10]\n",
            "(19, 20, 19, 20)\n"
          ]
        }
      ]
    }
  ]
}