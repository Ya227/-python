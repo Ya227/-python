{
  "nbformat": 4,
  "nbformat_minor": 0,
  "metadata": {
    "colab": {
      "provenance": [],
      "authorship_tag": "ABX9TyOOfIXA64ufiRnj4ROf39bw",
      "include_colab_link": true
    },
    "kernelspec": {
      "name": "python3",
      "display_name": "Python 3"
    },
    "language_info": {
      "name": "python"
    }
  },
  "cells": [
    {
      "cell_type": "markdown",
      "metadata": {
        "id": "view-in-github",
        "colab_type": "text"
      },
      "source": [
        "<a href=\"https://colab.research.google.com/github/Ya227/-python/blob/main/%D0%9A%D0%B0%D1%80%D0%B0%D1%81%D1%91%D0%B2%D0%B0_%D0%AF%D0%BD%D0%B0_2_%D0%B4%D0%B7.ipynb\" target=\"_parent\"><img src=\"https://colab.research.google.com/assets/colab-badge.svg\" alt=\"Open In Colab\"/></a>"
      ]
    },
    {
      "cell_type": "markdown",
      "source": [
        "# 1 задание"
      ],
      "metadata": {
        "id": "a-qP8gCzz_Wx"
      }
    },
    {
      "cell_type": "markdown",
      "source": [
        "Создайте класс Recipe с полями название, ингредиенты и время приготовления. Реализуйте методы update_cooking_time(new_time), который обновляет время приготовления, и display_info(), который выводит информацию о рецепте."
      ],
      "metadata": {
        "id": "6s3vMqYGz5xE"
      }
    },
    {
      "cell_type": "code",
      "source": [
        "class Recipe:\n",
        "    def __init__(self, n, i, t):\n",
        "        self.name = n\n",
        "        self.ingredients = i\n",
        "        self.time = t\n",
        "\n",
        "    def update_cooking_time(self, new_time):\n",
        "        if new_time >=0:\n",
        "            self.time = new_time\n",
        "        else:\n",
        "            print(\"Время приготовления не может быть отрицательным\")\n",
        "\n",
        "    def display_info(self):\n",
        "        print(f\"Название рецепта: {self.name}\\nИнгредиенты: {self.ingredients}\\nВремя приготовления: {self.time}\")\n",
        "\n",
        "pancakes = Recipe(\"блины\", \"смесь для блинов, вода\", 10)\n",
        "pancakes.update_cooking_time(15)\n",
        "pancakes.display_info()"
      ],
      "metadata": {
        "colab": {
          "base_uri": "https://localhost:8080/"
        },
        "id": "RDLw6xXHz9Qf",
        "outputId": "59001eea-2086-4052-bc70-82d21e5d0fa0"
      },
      "execution_count": 1,
      "outputs": [
        {
          "output_type": "stream",
          "name": "stdout",
          "text": [
            "Название рецепта: блины\n",
            "Ингредиенты: смесь для блинов, вода\n",
            "Время приготовления: 15\n"
          ]
        }
      ]
    },
    {
      "cell_type": "markdown",
      "source": [
        "# 2 Задание"
      ],
      "metadata": {
        "id": "_Ad2FRO624t0"
      }
    },
    {
      "cell_type": "markdown",
      "source": [
        "Определите класс Gadget, который наследуется от класса Product. Класс Gadget должен добавлять методы для обновления цены и отображения информации о гаджете."
      ],
      "metadata": {
        "id": "eebyQ9-627O3"
      }
    },
    {
      "cell_type": "code",
      "source": [
        "class Product:\n",
        "    def __init__(self, name):\n",
        "        self.name = name\n",
        "\n",
        "    def display_info(self):\n",
        "        print(f\"name: {self.name}\")\n",
        "\n",
        "\n",
        "class Gadget(Product):\n",
        "    def __init__(self, name, price):\n",
        "        super().__init__(name)\n",
        "        self.price = price\n",
        "\n",
        "    def update_price(self, new_price):\n",
        "        if new_price >=0:\n",
        "            self.price = new_price\n",
        "        else:\n",
        "            print(\"Цена не может быть отрицательной\")\n",
        "\n",
        "    def display_info(self):\n",
        "        super().display_info()\n",
        "        print(f\"price: {self.price}\")\n",
        "\n",
        "\n",
        "phone = Gadget(\"phone\", 40000)\n",
        "phone.update_price(39999)\n",
        "phone.display_info()"
      ],
      "metadata": {
        "colab": {
          "base_uri": "https://localhost:8080/"
        },
        "id": "wRE451DE_U-B",
        "outputId": "fe24b3ff-2faa-4d04-c846-4a12fc55f313"
      },
      "execution_count": 3,
      "outputs": [
        {
          "output_type": "stream",
          "name": "stdout",
          "text": [
            "name: phone\n",
            "price: 39999\n"
          ]
        }
      ]
    },
    {
      "cell_type": "markdown",
      "source": [
        "# 3 задание"
      ],
      "metadata": {
        "id": "XvKGnQlw_eJN"
      }
    },
    {
      "cell_type": "markdown",
      "source": [
        "Создать класс Gadget, в котором поля name, type и price будут приватными. Реализовать методы для безопасного изменения цены и доступа к информации о гаджете."
      ],
      "metadata": {
        "id": "1hYQAZNu_Whr"
      }
    },
    {
      "cell_type": "code",
      "source": [
        "class Gadget:\n",
        "    def __init__(self, name, type, price):\n",
        "        self.__name = name\n",
        "        self.__type = type\n",
        "        self.__price = price\n",
        "\n",
        "    @property\n",
        "    def price(self):\n",
        "        return self.__price\n",
        "\n",
        "    @price.setter\n",
        "    def price(self, price):\n",
        "        if price >= 0:\n",
        "            self.__price = price\n",
        "        else:\n",
        "            print(\"цена не может быть отрицательной\")\n",
        "\n",
        "    def display_info(self):\n",
        "        print(f\"name: {self.__name}\\ntype: {self.__type}\\nprice: {self.__price}\")\n",
        "\n",
        "\n",
        "phone = Gadget(\"samsung\", \"phone\", 40000)\n",
        "phone.price = 39999\n",
        "phone.display_info()"
      ],
      "metadata": {
        "colab": {
          "base_uri": "https://localhost:8080/"
        },
        "id": "38yltPWL7-qf",
        "outputId": "2d554e73-6aad-4495-fba4-a460914f4d20"
      },
      "execution_count": 1,
      "outputs": [
        {
          "output_type": "stream",
          "name": "stdout",
          "text": [
            "name: samsung\n",
            "type: phone\n",
            "price: 39999\n"
          ]
        }
      ]
    },
    {
      "cell_type": "markdown",
      "source": [
        "# 4.1 задание"
      ],
      "metadata": {
        "id": "FQxfeQajCesJ"
      }
    },
    {
      "cell_type": "markdown",
      "source": [
        "Парк и аттракцион. Создайте класс `Парк`, который включает в себя аттракционы. У класса `Парк` должен быть метод для добавления аттракционов. Класс `Аттракцион` должен иметь поле `название` и метод для запуска аттракциона. Аттракционы не могут существовать вне парка."
      ],
      "metadata": {
        "id": "imbP5W9WCgr3"
      }
    },
    {
      "cell_type": "code",
      "source": [
        "class Park:\n",
        "    def __init__(self):\n",
        "        self.attractions = []\n",
        "\n",
        "    def add_attraction(self, att_name):\n",
        "        new_att = Attraction(att_name)\n",
        "        self.attractions.append(new_att)\n",
        "\n",
        "    def print_info(self):\n",
        "        print(\"Аттракционы\")\n",
        "        for el in self.attractions:\n",
        "            print(f\"- {el.att_name}\")\n",
        "\n",
        "class Attraction:\n",
        "    def __init__(self, att_name):\n",
        "        self.att_name = att_name\n",
        "\n",
        "    def zapysk(self):\n",
        "        print(f\"Аттракцион {self.att_name} запущен\")\n",
        "\n",
        "\n",
        "A = Park()\n",
        "\n",
        "A.add_attraction(\"att1\")\n",
        "A.add_attraction(\"att2\")\n",
        "A.add_attraction(\"att3\")\n",
        "\n",
        "A.print_info()"
      ],
      "metadata": {
        "colab": {
          "base_uri": "https://localhost:8080/"
        },
        "id": "J5JW5v7TDZHm",
        "outputId": "58012e19-b7e4-48a6-b90d-afb7088cee3c"
      },
      "execution_count": 3,
      "outputs": [
        {
          "output_type": "stream",
          "name": "stdout",
          "text": [
            "Аттракционы\n",
            "- att1\n",
            "- att2\n",
            "- att3\n"
          ]
        }
      ]
    },
    {
      "cell_type": "markdown",
      "source": [
        "# 4.2"
      ],
      "metadata": {
        "id": "f8JiFD-tTC_1"
      }
    },
    {
      "cell_type": "markdown",
      "source": [
        "Тур и экскурсовод. Создайте класс `Тур`, который может проводиться разными экскурсоводами. У класса `Экскурсовод` есть поля `имя` и `языки`. Экскурсоводы могут существовать независимо от тура."
      ],
      "metadata": {
        "id": "Aya1rhuyKFlz"
      }
    },
    {
      "cell_type": "code",
      "source": [
        "class Tour:\n",
        "    def __init__(self):\n",
        "        self.guides = []\n",
        "\n",
        "    def add_guide(self, guide):\n",
        "        self.guides.append(guide)\n",
        "\n",
        "    def display_guides(self):\n",
        "        print(\"Список экскурсоводов\")\n",
        "        for el in self.guides:\n",
        "            el.display_info()\n",
        "\n",
        "\n",
        "class Guide:\n",
        "    def __init__(self, name, language):\n",
        "        self.name = name\n",
        "        self.language = language\n",
        "\n",
        "    def display_info(self):\n",
        "        print(f\"name: {self.name}\\tlanguage: {self.language}\")\n",
        "\n",
        "\n",
        "guide1 = Guide(\"Anna\", \"Russian\")\n",
        "guide2 = Guide(\"Alex\", \"English\")\n",
        "guide3 = Guide(\"Son\", \"Chinese\")\n",
        "\n",
        "tour1 = Tour()\n",
        "tour1.add_guide(guide1)\n",
        "tour1.add_guide(guide2)\n",
        "tour1.add_guide(guide3)\n",
        "\n",
        "tour1.display_guides()"
      ],
      "metadata": {
        "colab": {
          "base_uri": "https://localhost:8080/"
        },
        "id": "xR-iqbTrKGA9",
        "outputId": "b7fc2840-7f32-4e2c-b460-71c4687be1f5"
      },
      "execution_count": 1,
      "outputs": [
        {
          "output_type": "stream",
          "name": "stdout",
          "text": [
            "Список экскурсоводов\n",
            "name: Anna\tlanguage: Russian\n",
            "name: Alex\tlanguage: English\n",
            "name: Son\tlanguage: Chinese\n"
          ]
        }
      ]
    },
    {
      "cell_type": "markdown",
      "source": [
        "# 5 задание"
      ],
      "metadata": {
        "id": "MEweAC-hLB7w"
      }
    },
    {
      "cell_type": "markdown",
      "source": [
        "Создать абстрактный класс WrestlingMatch с абстрактным методом startMatch(). Реализовать подклассы SingleMatch и TagTeamMatch, которые реализуют метод startMatch()."
      ],
      "metadata": {
        "id": "bo7kZXiuLEkA"
      }
    },
    {
      "cell_type": "code",
      "source": [
        "from abc import ABC, abstractmethod\n",
        "\n",
        "class WrestlingMatch(ABC):\n",
        "    @abstractmethod\n",
        "    def startMatch(self): pass\n",
        "\n",
        "class SingleMatch(WrestlingMatch):\n",
        "    def startMatch(self):\n",
        "        print(\"Start Single Match\")\n",
        "\n",
        "class TagTeamMatch(WrestlingMatch):\n",
        "    def startMatch(self):\n",
        "        print(\"Start Tag Team Match\")\n",
        "\n",
        "match1 = SingleMatch()\n",
        "match2 = TagTeamMatch()\n",
        "\n",
        "match1.startMatch()\n",
        "match2.startMatch()"
      ],
      "metadata": {
        "colab": {
          "base_uri": "https://localhost:8080/"
        },
        "id": "t6B-UTe3MVjA",
        "outputId": "572d5a65-2f17-4fd4-c9a7-5da2fa91eaea"
      },
      "execution_count": 5,
      "outputs": [
        {
          "output_type": "stream",
          "name": "stdout",
          "text": [
            "Start Single Match\n",
            "Start Tag Team Match\n"
          ]
        }
      ]
    },
    {
      "cell_type": "markdown",
      "source": [
        "# 6 задание"
      ],
      "metadata": {
        "id": "6azhItrhUHWo"
      }
    },
    {
      "cell_type": "markdown",
      "source": [
        "Создать интерфейс IRecipe, который содержит методы updatePreparationTime(int time) и getRecipeDetails(). Создать класс Recipe, реализующий этот интерфейс. Класс должен содержать поля title, ingredients и preparationTime."
      ],
      "metadata": {
        "id": "ZSuRzGH5UH2T"
      }
    },
    {
      "cell_type": "code",
      "source": [
        "from abc import ABC, abstractmethod\n",
        "\n",
        "class IRecipe(ABC):\n",
        "    @abstractmethod\n",
        "    def updatePreparationTime(self, time): pass\n",
        "\n",
        "    @abstractmethod\n",
        "    def getRecipeDetails(self): pass\n",
        "\n",
        "\n",
        "class Recipe(IRecipe):\n",
        "    def __init__(self, title, ingredients, preparationTime):\n",
        "        self.title = title\n",
        "        self.ingredients = ingredients\n",
        "        self.preparationTime = preparationTime\n",
        "\n",
        "    def updatePreparationTime(self, time):\n",
        "        self.preparationTime = time\n",
        "        return self.preparationTime\n",
        "\n",
        "    def getRecipeDetails(self):\n",
        "        return self.title, self.ingredients, self.preparationTime\n",
        "\n",
        "    def display_info(self):\n",
        "        print(f\"{self.title}, {self.ingredients}, {self.preparationTime}\")\n",
        "\n",
        "\n",
        "recipe = Recipe(\"AAA\", \"a, b, c\", 60)\n",
        "recipe.display_info()\n",
        "recipe.updatePreparationTime(50)\n",
        "recipe.display_info()"
      ],
      "metadata": {
        "colab": {
          "base_uri": "https://localhost:8080/"
        },
        "id": "Mf5zXt9RUIU0",
        "outputId": "eccdd4a6-150b-4c97-9347-d0e482f82452"
      },
      "execution_count": 4,
      "outputs": [
        {
          "output_type": "stream",
          "name": "stdout",
          "text": [
            "AAA, a, b, c, 60\n",
            "AAA, a, b, c, 50\n"
          ]
        }
      ]
    },
    {
      "cell_type": "markdown",
      "source": [
        "# 7 задание"
      ],
      "metadata": {
        "id": "GQaUFUd9VWPa"
      }
    },
    {
      "cell_type": "markdown",
      "source": [
        "Определите метод calculateWarranty() в классе Gadget, который будет вычислять срок гарантии. Создайте подклассы Smartphone и Tablet, которые будут переопределять этот метод для различных типов гаджетов."
      ],
      "metadata": {
        "id": "SgAGTGoSVhfP"
      }
    },
    {
      "cell_type": "code",
      "source": [
        "class Gadget():\n",
        "    def __init__(self, day, month, year):\n",
        "        self.day = day\n",
        "        self.month = month\n",
        "        self.year = year\n",
        "\n",
        "    def calculateWarranty(self): pass\n",
        "\n",
        "class Smartphone(Gadget):\n",
        "    def calculateWarranty(self):\n",
        "        self.year = self.year + 1\n",
        "        print(f\"{self.day}.{self.month}.{self.year}\")\n",
        "\n",
        "class Tablet(Gadget):\n",
        "    def calculateWarranty(self):\n",
        "        self.year = self.year + 2\n",
        "        print(f\"{self.day}.{self.month}.{self.year}\")\n",
        "\n",
        "gadgets = [Smartphone(10, 10, 2010), Tablet(1, 1, 2025)]\n",
        "for gadget in gadgets:\n",
        "    gadget.calculateWarranty()\n"
      ],
      "metadata": {
        "colab": {
          "base_uri": "https://localhost:8080/"
        },
        "id": "tEcv4THfViVw",
        "outputId": "192e21af-2366-4921-c4b4-d5f4f09050fd"
      },
      "execution_count": 6,
      "outputs": [
        {
          "output_type": "stream",
          "name": "stdout",
          "text": [
            "10.10.2011\n",
            "1.1.2027\n"
          ]
        }
      ]
    }
  ]
}