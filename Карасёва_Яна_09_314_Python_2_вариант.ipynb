{
  "nbformat": 4,
  "nbformat_minor": 0,
  "metadata": {
    "colab": {
      "provenance": [],
      "collapsed_sections": [
        "xcCmlY05S4KK",
        "DKdyFsoFevI3",
        "Wc5eBnGM0oph"
      ],
      "authorship_tag": "ABX9TyOBlkwVbtgEBRnR/vXqNIWE",
      "include_colab_link": true
    },
    "kernelspec": {
      "name": "python3",
      "display_name": "Python 3"
    },
    "language_info": {
      "name": "python"
    }
  },
  "cells": [
    {
      "cell_type": "markdown",
      "metadata": {
        "id": "view-in-github",
        "colab_type": "text"
      },
      "source": [
        "<a href=\"https://colab.research.google.com/github/Ya227/-python/blob/main/%D0%9A%D0%B0%D1%80%D0%B0%D1%81%D1%91%D0%B2%D0%B0_%D0%AF%D0%BD%D0%B0_09_314_Python_2_%D0%B2%D0%B0%D1%80%D0%B8%D0%B0%D0%BD%D1%82.ipynb\" target=\"_parent\"><img src=\"https://colab.research.google.com/assets/colab-badge.svg\" alt=\"Open In Colab\"/></a>"
      ]
    },
    {
      "cell_type": "markdown",
      "source": [
        "# 1 Самостоятельная работа"
      ],
      "metadata": {
        "id": "xcCmlY05S4KK"
      }
    },
    {
      "cell_type": "markdown",
      "source": [
        "## 1 задание\n",
        "\n",
        "![image.png](data:image/png;base64,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)"
      ],
      "metadata": {
        "id": "FCpV3_YZTppZ"
      }
    },
    {
      "cell_type": "code",
      "execution_count": 9,
      "metadata": {
        "colab": {
          "base_uri": "https://localhost:8080/"
        },
        "id": "ocx0eaNcQWEc",
        "outputId": "b8418657-bf7c-443d-ab45-ac213d30abcf"
      },
      "outputs": [
        {
          "output_type": "stream",
          "name": "stdout",
          "text": [
            "x = 2.5\n",
            "y = 2\n",
            "z = -0.013020833333333334\n"
          ]
        }
      ],
      "source": [
        "x = float(input(\"x = \"))\n",
        "y = float(input(\"y = \"))\n",
        "z = ((5*x-10*y)/(2*y))/(6*y-3*x)/(8*y*y)\n",
        "print(\"z =\", z)"
      ]
    },
    {
      "cell_type": "markdown",
      "source": [
        "## 2 задание\n",
        "\n",
        "![image.png](data:image/png;base64,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)"
      ],
      "metadata": {
        "id": "Dqw4kI0_TUfX"
      }
    },
    {
      "cell_type": "code",
      "source": [
        "import math\n",
        "a = float(input(\"a = \"))\n",
        "b = float(input(\"b = \"))\n",
        "c = (math.sin(a+b)-math.cos(a)*math.sin(b))/\\\n",
        "    (math.cos(a-b)-math.sin(a)*math.sin(b))\n",
        "print(\"c =\", c)"
      ],
      "metadata": {
        "colab": {
          "base_uri": "https://localhost:8080/"
        },
        "id": "67VqMQIfTXi2",
        "outputId": "295716d7-a2a6-4033-db90-7134367940c0"
      },
      "execution_count": 8,
      "outputs": [
        {
          "output_type": "stream",
          "name": "stdout",
          "text": [
            "a = 1\n",
            "b = 0.5\n",
            "c = 1.5574077246549023\n"
          ]
        }
      ]
    },
    {
      "cell_type": "markdown",
      "source": [
        "## 3 задание\n",
        "\n",
        "Дана сторона равностороннего треугольника. Найти площадь этого треугольника, его высоты, радиусы вписанной и описанной окружностей."
      ],
      "metadata": {
        "id": "5NewbV8aYLz_"
      }
    },
    {
      "cell_type": "code",
      "source": [
        "from math import sqrt\n",
        "a=float(input(\"a = \"))\n",
        "S = (a*a*sqrt(3))/4\n",
        "h = (a*sqrt(3))/2\n",
        "r = (a*sqrt(3))/6\n",
        "R = (a*sqrt(3))/3\n",
        "print(\"S =\",S,\"\\nh =\",h,\"\\nr =\",r,\"\\nR =\",R)"
      ],
      "metadata": {
        "colab": {
          "base_uri": "https://localhost:8080/"
        },
        "id": "xZpbfPyFYOUr",
        "outputId": "ab3e99c3-1a2d-457b-fd2b-87ef16bf317b"
      },
      "execution_count": 10,
      "outputs": [
        {
          "output_type": "stream",
          "name": "stdout",
          "text": [
            "a = 1\n",
            "S = 0.4330127018922193 \n",
            "h = 0.8660254037844386 \n",
            "r = 0.28867513459481287 \n",
            "R = 0.5773502691896257\n"
          ]
        }
      ]
    },
    {
      "cell_type": "markdown",
      "source": [
        "## 4 задание\n",
        "\n",
        "Даны целые положительные числа A и B (A > B). На отрезке длины A размещено максимально возможное количество отрезков длины B (без наложений). Используя операцию взятия остатка от деления нацело, найти длину незанятой части отрезка A."
      ],
      "metadata": {
        "id": "xPtQjtUNZxkn"
      }
    },
    {
      "cell_type": "code",
      "source": [
        "a = int(input(\"A = \"))\n",
        "b = int(input(\"B = \"))\n",
        "print(a%b)"
      ],
      "metadata": {
        "colab": {
          "base_uri": "https://localhost:8080/"
        },
        "id": "Wjm86Rf7auJC",
        "outputId": "749a0df9-ccdf-4740-bdf1-4087e37a3616"
      },
      "execution_count": 11,
      "outputs": [
        {
          "output_type": "stream",
          "name": "stdout",
          "text": [
            "A = 87\n",
            "B = 5\n",
            "2\n"
          ]
        }
      ]
    },
    {
      "cell_type": "markdown",
      "source": [
        "## 5 задание\n",
        "\n",
        "Даны координаты двух различных полей шахматной доски x1, y1,\n",
        "x2, y2 (целые числа, лежащие в диапазоне 1–8). Проверить истинность высказывания: «Ферзь за один ход может перейти с одного поля на другое».\n"
      ],
      "metadata": {
        "id": "izoJ6cY2au35"
      }
    },
    {
      "cell_type": "code",
      "source": [
        "x1 = int(input(\"x1 = \"))\n",
        "y1 = int(input(\"y1 = \"))\n",
        "x2 = int(input(\"x2 = \"))\n",
        "y2 = int(input(\"y2 = \"))\n",
        "z = (x1 == x2) or (y1 == y2) or (abs(x1-x2) == abs(y1-y2))\n",
        "print(z)"
      ],
      "metadata": {
        "id": "gVY1Ii9SaxT4"
      },
      "execution_count": null,
      "outputs": []
    },
    {
      "cell_type": "markdown",
      "source": [
        "# 2 Самостоятельная работа"
      ],
      "metadata": {
        "id": "DKdyFsoFevI3"
      }
    },
    {
      "cell_type": "markdown",
      "source": [
        "## 1 задание\n",
        "\n",
        "Для данного вещественного x найти значение следующей функции f, принимающей вещественные значения:\n",
        "\n",
        "![image.png](data:image/png;base64,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)"
      ],
      "metadata": {
        "id": "M27-POB6e4ho"
      }
    },
    {
      "cell_type": "code",
      "source": [
        "x = float(input(\"x = \"))\n",
        "if(x >=3):\n",
        "    f = -x + 3*x + 9\n",
        "else:\n",
        "    f = x/(x*x*x - 1)\n",
        "print(\"f(x) =\",f)\n"
      ],
      "metadata": {
        "colab": {
          "base_uri": "https://localhost:8080/"
        },
        "id": "yWiv_kB-e5y-",
        "outputId": "f589cd5b-3cf0-4909-f590-c1a1900a9bbe"
      },
      "execution_count": 12,
      "outputs": [
        {
          "output_type": "stream",
          "name": "stdout",
          "text": [
            "x = 10\n",
            "f(x) = 29.0\n"
          ]
        }
      ]
    },
    {
      "cell_type": "markdown",
      "source": [
        "## 2 задание\n",
        "\n",
        "Даны две точки А(x1 , y1),  В(x 2, y2). Составить алгоритм, определяющий, которая из точек находится ближе к началу координат."
      ],
      "metadata": {
        "id": "BhRjbsfym99f"
      }
    },
    {
      "cell_type": "code",
      "source": [
        "x1 = float(input(\"A: x1 = \"))\n",
        "y1 = float(input(\"   y1 = \"))\n",
        "x2 = float(input(\"B: x2 = \"))\n",
        "y2 = float(input(\"   y2 = \"))\n",
        "if(abs(x1)+abs(y1) < abs(x2)+abs(y1)):\n",
        "    print(\"A\")\n",
        "else:\n",
        "    print(\"B\")\n",
        ""
      ],
      "metadata": {
        "colab": {
          "base_uri": "https://localhost:8080/"
        },
        "id": "44Bm-KBInAUO",
        "outputId": "f08b441d-3e65-436c-fb1b-49d0a3fce359"
      },
      "execution_count": 13,
      "outputs": [
        {
          "output_type": "stream",
          "name": "stdout",
          "text": [
            "A: x1 = 1\n",
            "   y1 = 1\n",
            "B: x2 = 1.1\n",
            "   y2 = 1.1\n",
            "A\n"
          ]
        }
      ]
    },
    {
      "cell_type": "markdown",
      "source": [
        "## 3 задание\n",
        "\n",
        "Даны три числа  m, n, p. Определить какое из них равно d. Если ни одно не рано d, то найти max(d-m, d-n, d-p)."
      ],
      "metadata": {
        "id": "n7zT2Sh4qVrR"
      }
    },
    {
      "cell_type": "code",
      "source": [
        "d = float(input(\"d = \"))\n",
        "m = float(input(\"m = \"))\n",
        "n = float(input(\"n = \"))\n",
        "p = float(input(\"p = \"))\n",
        "if (m == d): print(\"d = m =\", m)\n",
        "elif (n == d): print(\"d = n =\", n)\n",
        "elif (p == d): print(\"d = p =\", p)\n",
        "else: print(max(d-m, d-n, d-p))"
      ],
      "metadata": {
        "colab": {
          "base_uri": "https://localhost:8080/"
        },
        "id": "imhW3H9-qXCj",
        "outputId": "5d4a5378-9c85-431d-c51d-43927a2bc243"
      },
      "execution_count": 14,
      "outputs": [
        {
          "output_type": "stream",
          "name": "stdout",
          "text": [
            "d = 3.4\n",
            "m = 3\n",
            "n = 2\n",
            "p = 4\n",
            "1.4\n"
          ]
        }
      ]
    },
    {
      "cell_type": "markdown",
      "source": [
        "## 4 задание\n",
        "\n",
        "Определить максимальное и минимальное значения из двух различных вещественных чисел."
      ],
      "metadata": {
        "id": "atjQELNhrCUs"
      }
    },
    {
      "cell_type": "code",
      "source": [
        "a = float(input(\"a = \"))\n",
        "b = float(input(\"b = \"))\n",
        "if(a>b): print(\"max: a =\", a,\"\\nmin: b =\", b)\n",
        "else: print(\"max: b =\", b, \"\\nmin: a =\", a)"
      ],
      "metadata": {
        "colab": {
          "base_uri": "https://localhost:8080/"
        },
        "id": "2TFTryf4rDts",
        "outputId": "abab1683-113a-4b93-ae06-8ec267593669"
      },
      "execution_count": 15,
      "outputs": [
        {
          "output_type": "stream",
          "name": "stdout",
          "text": [
            "a = 1.11\n",
            "b = 1.1\n",
            "max: a = 1.11 \n",
            "min: b = 1.1\n"
          ]
        }
      ]
    },
    {
      "cell_type": "markdown",
      "source": [
        "## 5 задание\n",
        "\n",
        "Мастям игральных карт условно присвоены следующие порядковые номера: масти \"пики\" — 1, масти \"трефы\" — 2, масти \"бубны\" — 3, масти \"червы\" —4. По заданному номеру масти m (1 m 4) определить название соответствующей масти."
      ],
      "metadata": {
        "id": "IteRD9BssB7a"
      }
    },
    {
      "cell_type": "code",
      "source": [
        "def switch_case(case):\n",
        "    return{\n",
        "        1:\"пики\",\n",
        "        2:\"трефы\",\n",
        "        3:\"бубны\",\n",
        "        4:\"червы\",\n",
        "    }.get(case, \"Error\")\n",
        "m = int(input(\"m = \"))\n",
        "print(switch_case(m))"
      ],
      "metadata": {
        "colab": {
          "base_uri": "https://localhost:8080/"
        },
        "id": "E94Rw_qTsDSz",
        "outputId": "8b376640-ea14-44d0-9276-509c31f40fbc"
      },
      "execution_count": 16,
      "outputs": [
        {
          "output_type": "stream",
          "name": "stdout",
          "text": [
            "m = 1\n",
            "пики\n"
          ]
        }
      ]
    },
    {
      "cell_type": "markdown",
      "source": [
        "# 3 Самостоятельная работа"
      ],
      "metadata": {
        "id": "Wc5eBnGM0oph"
      }
    },
    {
      "cell_type": "markdown",
      "source": [
        "## 1 задание\n",
        "\n",
        "Начав тренировки, спортсмен в первый день пробежал 10 км. Каждый день он увеличивал дневную норму на 10% нормы предыдущего дня. Какой суммарный путь пробежит спортсмен за 7 дней?"
      ],
      "metadata": {
        "id": "bkw7ZdGv1Pu2"
      }
    },
    {
      "cell_type": "code",
      "source": [
        "n = 10\n",
        "s = 10\n",
        "for i in range(1,7):\n",
        "    n = n * 1.1\n",
        "    s += n\n",
        "print(s)"
      ],
      "metadata": {
        "id": "xXQ6baDr1XS_"
      },
      "execution_count": null,
      "outputs": []
    },
    {
      "cell_type": "markdown",
      "source": [
        "## 2 задание\n",
        "\n",
        "Дано натуральное число N. Вычислить:\n",
        "\n",
        "![image.png](data:image/png;base64,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)"
      ],
      "metadata": {
        "id": "v7S0jldM291p"
      }
    },
    {
      "cell_type": "code",
      "source": [
        "from math import sin\n",
        "N = int(input(\"N = \"))\n",
        "s = 0\n",
        "ss = 0\n",
        "for i in range(1,N+1):\n",
        "    ss += sin(i)\n",
        "    s += 1/ss\n",
        "print(\"S =\", s)"
      ],
      "metadata": {
        "id": "z6oiWwaA_Nk1"
      },
      "execution_count": null,
      "outputs": []
    },
    {
      "cell_type": "markdown",
      "source": [
        "## 3 задание\n",
        "\n",
        "Найти сумму ряда с точностью ε=0,001, общий член которого:\n",
        "\n",
        "![image.png](data:image/png;base64,iVBORw0KGgoAAAANSUhEUgAAAJQAAABACAMAAADLTa7fAAAAAXNSR0IArs4c6QAAAARnQU1BAACxjwv8YQUAAAKFUExURQAAAAAAAAAAAAAAAAAAAAAAAAAAAAAAAAAAAAAAAAAAAAAAAAAAAAAAAAAAAAAAAAAAAAAAAAAAAAAAAAAAAAAAAAAAAAAAAAAAAAAAAAAAAAAAAAAAAAAAAAAAAAAAAAAAAAAAAAAAAAAAAAAAAAAAAAAAAAAAAAAAAAAAAAAAAAAAAAAAAAAAAAAAAAAAAAAAAAAAAAAAAAAAAAAAAAAAAAAAAAAAAAAAAAAAAAAAAAAAAAAAAAAAAAAAAAAAAAAAAAAAAAAAAAAAAAAAAAAAAAAAAAAAAAAAAAAAAAAAAAAAAAAAAAAAAAAAAAAAAAAAAAAAAAAAAAAAAAAAAAAAAAAAAAAAAAAAAAAAAAAAAAAAAAAAAAAAAAAAAAAAAAAAAAAAAAAAAAAAAAAAAAAAAAAAAAAAAAAAAAAAAAAAAAAAAAAAAAAAAAAAAAAAAAAAAAAAAAAAAAAAAAAAAAAAAAAAAAAAAAAAAAAAAAAAAAAAAAAAAAAAAAAAAAAAAAAAAAAAAAAAAAAAAAAAAAAAAAAAAAAAAAAAAAAAAAAAAAAAAAAAAAAAAAAAAAAAAAAAAAAAAAAAAAAAAAAAAAAAAAAAAAAAAAAAAAAAAAAAAAAAAAAAAAAAAAAAAAAAAAAAAAAAAAAAAAAAAAAAAAAAAAAAAAAAAAAAAAAAAAAAAAAAAAAAAAAAAAAAAAAAAAAAAAAAAAAAAAAAAAAAAAAAAAAAAAAAAAAAAAAAAAAAAAAAAAAAAAAAAAAAAAAAAAAAAAAAAAAAAAAAAAAAAAAAAAAAAAAAAAAAAAAAAAAAAAAAAAAAAAAAAAAAAAAAAAAAAAAAAAAAAAAAAAAAAAAAAAAAAKdFlu0AAADWdFJOUwABAgMEBQYHCAkKCwwNDg8QERMUFRYXGBkaGxwdHh8gISIjJCYnKCkqLS4vMDIzNDU2Nzg5Ojs8PT4/QEFCQ0RFRkdISUtMTU5PUFFSU1RVVldYWVpcXV9gY2RlZmdoaWprbm9wcXJzdHV2eHt9fn+AgYKDhIaIiouPkJGSk5SVlpeYmpucnp+goaKjpaanqKqrrK6vsLKztba3uLm6vL2+v8HCw8XGx8jJysvMzc7P0tPU1dbX2tvc3d7f4OHi4+Tl5ufo6err7O3w8fP09fb5+vv8/f5M9M3hAAAACXBIWXMAABcRAAAXEQHKJvM/AAAEDklEQVRoQ+3X+VdTRxQH8IkQCGlSMNW4UBQVWWyN1Kp1bRuhChEpVkWpYK3aVmqrXYKGpSDgjkVaFxS3lmqtW1O7WDEaKcWVxYp6/x5nJvfoE/LyJiHvHHp8nx/efO99LEPIm5kQjUbzvxePozBLLAa16Oc3N2EUNNbZPhOjSl6regiHMAsxf3gGYAoWKomP3QiNmIUYR1luqD0pQt4NblJUs/qTyg16UscG4it1XJuUIG1SorRJiXpeJzUgF08H/IRJ1GmYjUklekstdNtexEqEKe0hlA7TY6WKcYXlFVtKcrAS4dhQVbFlzWisNANW8VQMA0nPBgzKhqdg6K1g93ZbUlUuVmHQvg6DooQ7j7IwPiPu1MnpyS43vI31ExEWCTM2hYhPKhWgEKOU8Y/T9LoEWqN89VNJnRIN2BTS/gkGZe+8H4FJ6vtHg+l1Gez0lRIxUySSsSnk39UYQjQX1rDBBQt5qcDwmUvOZj7tz39jetr4MJZ18vF+HxtfYLf9ct9jO4Xu0v2XfHVgxur9cr57hX1Bxnqm8zAf+I9ci/f72Cb7NrVBPRvmwQlePsNaKbESm0LaPsAQmmJYRa9xHljrq6USL0pUYlOI+NPnVzUsou+UzR5IsFixFQZBTOrlERgkvoJG06Q9GS3eod8kYCsMbhZjUJTV3bUC41NJHdB5ZqoJ4OhEVhrpOYn3++f2pxgUOQHu0l/aS8rqvGgSVVA0nObxe2use/8c5rvRH6lDMCga8mXRNYUT1qmKrDcfJGGhlkE4ohG/GjD5Z2ipiXJ4e32TP+a0ZNyUUrY5rTt+ZHtCYAkTfP8A3azDGbamCp45w4HFmGS8AdPIga1YBFDSBfD3xzwO+r0sK69baeEd8wtA1y6+go/sWp656QrvMjO+XYpJTvlxor+a0fd910s9nD/aAVDGssnrjMg/y9vyxnibSg4CNOhott/Jkf7hNqVnPrItm6Q/WDEUSzmO9tfp2ewHgMm0eAts5EiJ74YcY90Cel0HkEqHyhtG/e05vC/EkG8k8V/zXTQA3W6+eJhbYRMdaptI9PXZMawjy5LOh1Z4lV5bCsmMq6ZI3gmfSPo6MbVQSkj0LTuZ9V+B0GbguU6XwMkdMaTcMz0ae+HmAroUm4sMZHxZIrYCGtydSa8T6LOW65Q/tPTTMRiJSUwdP7epywLlmERYc5rB3edDQNhV3TJhEjGz5i+A+2lYqSW9hz+DQVhyFw5iVEmsV2Fz8CMbbgbe5fop8kgoH1f+uRfMfzxodSEdd91X2D6jllLfZjx6Lh9E6Xq+wKSG+nP2bIdj4UeX7dhQEDVnFBuqPYpbfchiGwFdwo4SO8C+9/IafmaHW5WkVuMnXJfoYhjnuuB11y/HSqN5fhHyGO+tc4fEr1kiAAAAAElFTkSuQmCC)"
      ],
      "metadata": {
        "id": "enuTWAQ2BG3N"
      }
    },
    {
      "cell_type": "code",
      "source": [
        "n = 1\n",
        "eps=0.001\n",
        "s = 1/(2**n) + 1/(3**n)\n",
        "while (1/(2**n) + 1/(3**n) > eps):\n",
        "    n+=1\n",
        "    s += 1/(2**n) + 1/(3**n)\n",
        "\n",
        "print(\"S =\", s)"
      ],
      "metadata": {
        "id": "6RYgLzOCBHYI"
      },
      "execution_count": null,
      "outputs": []
    },
    {
      "cell_type": "markdown",
      "source": [
        "## 4 задание\n",
        "\n",
        "Дано целое число N и набор из N вещественных чисел. Вывести сумму и произведение чисел из данного набора."
      ],
      "metadata": {
        "id": "9eUDUF3tBZWB"
      }
    },
    {
      "cell_type": "code",
      "source": [
        "n = int(input(\"N = \"))\n",
        "s = 0\n",
        "p = 1\n",
        "for i in range(1, n+1):\n",
        "    a = int(input())\n",
        "    s += a\n",
        "    p *= a\n",
        "print(\"sum:\", s, \"\\nmult:\", p)"
      ],
      "metadata": {
        "id": "Dgnami-IBeOJ"
      },
      "execution_count": null,
      "outputs": []
    },
    {
      "cell_type": "markdown",
      "source": [
        "# 4 Самостоятельная работа"
      ],
      "metadata": {
        "id": "Qdp6hGuWFqvJ"
      }
    },
    {
      "cell_type": "markdown",
      "source": [
        "## 1 задание\n",
        "\n",
        "Составить процедуру (функцию), определяющую, в каком из данных двух чисел больше цифр."
      ],
      "metadata": {
        "id": "OpCLCUEKFwaz"
      }
    },
    {
      "cell_type": "code",
      "source": [
        "def count(x):\n",
        "    c = 0\n",
        "    if x < 0:\n",
        "        x = -x\n",
        "    while x > 0:\n",
        "        c+=1\n",
        "        x //= 10\n",
        "    return c\n",
        "\n",
        "a = int(input(\"a = \"))\n",
        "b = int(input(\"b = \"))\n",
        "if(count(a) > count(b)): print(a)\n",
        "else: print(b)"
      ],
      "metadata": {
        "id": "eE4XKEc5F30c"
      },
      "execution_count": null,
      "outputs": []
    },
    {
      "cell_type": "markdown",
      "source": [
        "## 2 задание\n",
        "\n",
        "Составить функцию нахождения наибольшего общего делителя и наименьшего общего кратного двух натуральных чисел (НОК(А, В) = А*Б/ НОД(А, В)."
      ],
      "metadata": {
        "id": "ioYhUlQsF6dq"
      }
    },
    {
      "cell_type": "code",
      "source": [
        "def gcd(a,b):\n",
        "    while b != 0:\n",
        "        a, b = b, a % b\n",
        "    return a\n",
        "\n",
        "def lcm(a,b):\n",
        "    return (a*b)//gcd(a,b)\n",
        "\n",
        "a = int(input(\"a = \"))\n",
        "b = int(input(\"b = \"))\n",
        "print(\"gcd =\", gcd(a, b), \"\\nlcm =\", lcm(a,b))"
      ],
      "metadata": {
        "id": "FAfcB4AKGBlr"
      },
      "execution_count": null,
      "outputs": []
    },
    {
      "cell_type": "markdown",
      "source": [
        "## 3 задание\n",
        "\n",
        "Подсчитать количество цифр в заданном натуральном числе, используя рекурсивную подпрограмму."
      ],
      "metadata": {
        "id": "PmVJVYD0GCHZ"
      }
    },
    {
      "cell_type": "code",
      "source": [
        "def count(x):\n",
        "    if x < 10:\n",
        "        return 1\n",
        "    else: return 1+ count(x//10)\n",
        "\n",
        "a = int(input(\"a = \"))\n",
        "print(count(a))"
      ],
      "metadata": {
        "id": "Q10TT1ZXGHuI"
      },
      "execution_count": null,
      "outputs": []
    }
  ]
}