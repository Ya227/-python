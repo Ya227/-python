{
  "nbformat": 4,
  "nbformat_minor": 0,
  "metadata": {
    "colab": {
      "provenance": [],
      "authorship_tag": "ABX9TyMPg8HFvNqdlQqtyDdGZPl9",
      "include_colab_link": true
    },
    "kernelspec": {
      "name": "python3",
      "display_name": "Python 3"
    },
    "language_info": {
      "name": "python"
    }
  },
  "cells": [
    {
      "cell_type": "markdown",
      "metadata": {
        "id": "view-in-github",
        "colab_type": "text"
      },
      "source": [
        "<a href=\"https://colab.research.google.com/github/Ya227/-python/blob/main/%D0%9A%D0%B0%D1%80%D0%B0%D1%81%D1%91%D0%B2%D0%B0_%D0%AF%D0%BD%D0%B0_4%D0%B4%D0%B7.ipynb\" target=\"_parent\"><img src=\"https://colab.research.google.com/assets/colab-badge.svg\" alt=\"Open In Colab\"/></a>"
      ]
    },
    {
      "cell_type": "markdown",
      "source": [
        "# Символы и строки: группа String"
      ],
      "metadata": {
        "id": "QANQglrQ9In9"
      }
    },
    {
      "cell_type": "markdown",
      "source": [
        "Дана последовательность слов. Напечатать все слова в алфавитном порядке."
      ],
      "metadata": {
        "id": "I_fnSNevWaN7"
      }
    },
    {
      "cell_type": "code",
      "execution_count": null,
      "metadata": {
        "colab": {
          "base_uri": "https://localhost:8080/"
        },
        "id": "XzOKsgF5SWfJ",
        "outputId": "aaa6f633-6194-4c43-a79e-7b82b5fb25cc"
      },
      "outputs": [
        {
          "output_type": "stream",
          "name": "stdout",
          "text": [
            "ananas apple banan blueberry cucumber tomato\n"
          ]
        }
      ],
      "source": [
        "def sort_words(str):\n",
        "    str = str.lower()\n",
        "    mas = str.split()\n",
        "    mas.sort()\n",
        "    str = \" \".join(mas)\n",
        "    return str\n",
        "\n",
        "str = \"banan ananas apple Blueberry tomato cucumber\"\n",
        "print(sort_words(str))"
      ]
    },
    {
      "cell_type": "markdown",
      "source": [
        "Вычислить s—сумму порядковых номеров всех букв, входящих в слово SUM."
      ],
      "metadata": {
        "id": "KKFZ2AxIWgO9"
      }
    },
    {
      "cell_type": "code",
      "source": [
        "def summa_letters(str):\n",
        "    str = str.lower()\n",
        "    s = 0\n",
        "    for ch in str:\n",
        "        s = s + ord(ch) - ord('a') + 1\n",
        "    return s\n",
        "\n",
        "SUM = \"AbCdEf\"\n",
        "print(summa_letters(SUM))"
      ],
      "metadata": {
        "colab": {
          "base_uri": "https://localhost:8080/"
        },
        "id": "JeEJE2EdZvCy",
        "outputId": "c2376b6b-0ad4-4011-b17a-92b3e98226e0"
      },
      "execution_count": null,
      "outputs": [
        {
          "output_type": "stream",
          "name": "stdout",
          "text": [
            "21\n"
          ]
        }
      ]
    },
    {
      "cell_type": "markdown",
      "source": [
        "Используя только литерный ввод, т. е. процедуру read(c), где с—литерная переменная, ввести непустую последовательность цифр, перед которой может находиться знак “+” или “—” и за которой следует пробел, и, получив соответствующее целое число, присвоить его целой временной k."
      ],
      "metadata": {
        "id": "hQ2i7ei-fNcz"
      }
    },
    {
      "cell_type": "code",
      "source": [
        "def read_int():\n",
        "    c = input()\n",
        "    k = 0\n",
        "    for ch in c:\n",
        "        if ch == '+':\n",
        "            sign = 1\n",
        "        elif ch == '-':\n",
        "            sign = -1\n",
        "        elif 0 <= ord(ch) - ord('0') <= 9:\n",
        "            k = (k*10) + ord(ch) - ord('0')\n",
        "    k *= sign\n",
        "    return k\n",
        "\n",
        "print(read_int())"
      ],
      "metadata": {
        "colab": {
          "base_uri": "https://localhost:8080/"
        },
        "id": "lrg-PZKYfN5G",
        "outputId": "b8636d93-dc55-4102-be76-968428e174e1"
      },
      "execution_count": null,
      "outputs": [
        {
          "output_type": "stream",
          "name": "stdout",
          "text": [
            "- 123456\n",
            "-123456\n"
          ]
        }
      ]
    },
    {
      "cell_type": "markdown",
      "source": [
        "# Текстовые файлы: группа Text"
      ],
      "metadata": {
        "id": "h4Sn4lZPfTcn"
      }
    },
    {
      "cell_type": "markdown",
      "source": [
        "Дан строковый файл. Создать новый строковый файл, содержащий все строки исходного файла наибольшей длины (в обратном порядке)."
      ],
      "metadata": {
        "id": "PpYD713g9XHT"
      }
    },
    {
      "cell_type": "code",
      "source": [
        "def f(file1, file2):\n",
        "    with open(file1, 'r') as infile, open(file2, 'w') as outfile:\n",
        "        lines = infile.readlines()\n",
        "        maxlen = 0\n",
        "        for line in lines:\n",
        "            maxlen = max(maxlen, len(line.strip()))\n",
        "        newline = []\n",
        "        for line in lines:\n",
        "            if(len(line.strip()) == maxlen):\n",
        "                newline.append(line)\n",
        "        newline.reverse()\n",
        "        outfile.writelines(newline)\n",
        "\n",
        "file1 = \"infile1.txt\"\n",
        "file2 = \"outfile1.txt\"\n",
        "f(file1, file2)"
      ],
      "metadata": {
        "id": "NxN2b0RWINLF"
      },
      "execution_count": 6,
      "outputs": []
    },
    {
      "cell_type": "markdown",
      "source": [
        "Дан файл целых чисел, содержащий четное количество элементов. Удалить из данного файла первую половину элементов."
      ],
      "metadata": {
        "id": "9uiwzD7YJ1TU"
      }
    },
    {
      "cell_type": "code",
      "source": [
        "def f(file1, file2):\n",
        "    with open(file1, 'r') as infile, open(file2, 'w') as outfile:\n",
        "        number = []\n",
        "        for line in infile:\n",
        "            number.append(int(line.strip()))\n",
        "        newf = number[len(number)//2:]\n",
        "        for num in newf:\n",
        "            outfile.write(str(num) + '\\n')\n",
        "\n",
        "file1 = \"infile2.txt\"\n",
        "file2 = \"outfile2.txt\"\n",
        "f(file1, file2)"
      ],
      "metadata": {
        "id": "jChe-68IOiTz"
      },
      "execution_count": 7,
      "outputs": []
    },
    {
      "cell_type": "markdown",
      "source": [
        "Дан файл целых чисел. Найти количество содержащихся в нем серий (то есть наборов последовательно расположенных одинаковых элементов). Например, для файла с элементами 1, 5, 5, 5, 4, 4, 5 результат равен 4."
      ],
      "metadata": {
        "id": "Vbw1jDiSOu49"
      }
    },
    {
      "cell_type": "code",
      "source": [
        "def f(file1):\n",
        "    with open(file1, 'r') as infile:\n",
        "        number = []\n",
        "        for line in infile:\n",
        "            number.append(int(line.strip()))\n",
        "        series = 1\n",
        "        for i in range(1, len(number)):\n",
        "            if number[i] != number[i - 1]:\n",
        "                series += 1\n",
        "        return series\n",
        "\n",
        "file1 = \"infile3.txt\"\n",
        "print(f(file1))"
      ],
      "metadata": {
        "id": "miDGq9ihVbmd"
      },
      "execution_count": null,
      "outputs": []
    },
    {
      "cell_type": "markdown",
      "source": [
        "# Разработка программы тестирования на Python"
      ],
      "metadata": {
        "id": "_AxI--VK1fyD"
      }
    },
    {
      "cell_type": "code",
      "source": [
        "import random\n",
        "import datetime\n",
        "\n",
        "def mix(file):\n",
        "    with open(file, 'r', encoding='utf-8') as fi:\n",
        "        quest = []\n",
        "        for line in fi:\n",
        "            quest.append(line.strip().split('|'))\n",
        "    random.shuffle(quest)\n",
        "    for el in quest:\n",
        "        a = el[1:6]\n",
        "        random.shuffle(a)\n",
        "        el[1:6] = a\n",
        "    return quest\n",
        "\n",
        "def process(quest):\n",
        "    time = datetime.datetime.now()\n",
        "    time_format = \"%Y-%m-%d %H:%M:%S\"\n",
        "    numberquestion = 1\n",
        "    rightanswer = 0\n",
        "    for el in quest:\n",
        "        print(f\"Вопрос {numberquestion}/{len(quest)}: {el[0]}\")\n",
        "        print(f\"1. {el[1]}\\n2. {el[2]}\\n3. {el[3]}\\n4. {el[4]}\\n5. {el[5]}\")\n",
        "        answer = input()\n",
        "        while not answer.isdigit() or not (1 <= int(answer) <=5):\n",
        "            print(\"Неправильный ввод. Введите число от 1 до 5\")\n",
        "            answer = input()\n",
        "        if el[int(answer)] == el[6]:\n",
        "            print(\"Правильный ответ!\\n\")\n",
        "            rightanswer += 1\n",
        "        else:\n",
        "            print(\"Неправильный ответ(\\n\")\n",
        "        numberquestion += 1\n",
        "    print(\"Тест завершен!\")\n",
        "    print(f\"Общее количество вопросов: {len(quest)}\")\n",
        "    print(f\"Количество правильных ответов: {rightanswer}\")\n",
        "    print(f\"Процент правильных ответов: {rightanswer/len(quest) * 100: .2f}%\")\n",
        "\n",
        "    with open(\"result.txt\", 'a', encoding='utf-8') as res:\n",
        "        res.write(f\"Время начала теста: {time:{time_format}}\\n\")\n",
        "        res.write(f\"Время окончания теста: {datetime.datetime.now():{time_format}}\\n\")\n",
        "        res.write(f\"Общее количесво вопросов: {len(quest)}\\n\")\n",
        "        res.write(f\"Количество правильных ответов: {rightanswer}\\n\")\n",
        "        res.write(f\"Процент правильных ответов: {rightanswer/len(quest) * 100: .2f}%\\n\\n\")\n",
        "\n",
        "file = \"questions.txt\"\n",
        "quest = mix(file)\n",
        "process(quest)"
      ],
      "metadata": {
        "colab": {
          "base_uri": "https://localhost:8080/"
        },
        "id": "IYQRw0Fd1kQ6",
        "outputId": "e23a30af-b5ae-4866-a5b4-9879ae027d70"
      },
      "execution_count": 1,
      "outputs": [
        {
          "output_type": "stream",
          "name": "stdout",
          "text": [
            "Вопрос 1/20: Какой протокол отвечает за безопасную передачу данных между браузером и сервером?\n",
            "1. HTTP\n",
            "2. FTP\n",
            "3. TCP\n",
            "4. HTTPS\n",
            "5. SMTP\n",
            "4\n",
            "Правильный ответ!\n",
            "\n",
            "Вопрос 2/20: Какая база данных является нереляционной (NoSQL)?\n",
            "1. Oracle\n",
            "2. PostgreSQL\n",
            "3. MySQL\n",
            "4. SQLite\n",
            "5. MongoDB\n",
            "1\n",
            "Неправильный ответ(\n",
            "\n",
            "Вопрос 3/20: Какая из перечисленных технологий используется для стилизации веб-страниц?\n",
            "1. CSS\n",
            "2. SQL\n",
            "3. TypeScript\n",
            "4. Python\n",
            "5. HTML\n",
            "3\n",
            "Неправильный ответ(\n",
            "\n",
            "Вопрос 4/20: Какой язык программирования чаще всего используется для анализа данных и машинного обучения?\n",
            "1. JavaScript\n",
            "2. PHP\n",
            "3. Ruby\n",
            "4. C++\n",
            "5. Python\n",
            "6\n",
            "Неправильный ввод. Введите число от 1 до 5\n",
            "2\n",
            "Неправильный ответ(\n",
            "\n",
            "Вопрос 5/20: Какое расширение файла обычно используется для скриптов на языке Python?\n",
            "1. .py\n",
            "2. .rb\n",
            "3. .php\n",
            "4. .js\n",
            "5. .java\n",
            "1\n",
            "Правильный ответ!\n",
            "\n",
            "Вопрос 6/20: Какой метод HTTP-запроса используется для обновления данных на сервере?\n",
            "1. DELETE\n",
            "2. GET\n",
            "3. PUT\n",
            "4. POST\n",
            "5. PATCH\n",
            "2\n",
            "Неправильный ответ(\n",
            "\n",
            "Вопрос 7/20: Какой язык программирования был создан первым?\n",
            "1. Fortran\n",
            "2. Java\n",
            "3. Ruby\n",
            "4. Python\n",
            "5. C\n",
            "3\n",
            "Неправильный ответ(\n",
            "\n",
            "Вопрос 8/20: Какой инструмент используется для управления версиями кода?\n",
            "1. Apache\n",
            "2. Git\n",
            "3. Docker\n",
            "4. Jenkins\n",
            "5. Nginx\n",
            "4\n",
            "Неправильный ответ(\n",
            "\n",
            "Вопрос 9/20: Какой протокол используется для отправки электронной почты?\n",
            "1. IMAP\n",
            "2. HTTP\n",
            "3. SSH\n",
            "4. SMTP\n",
            "5. FTP\n",
            "5\n",
            "Неправильный ответ(\n",
            "\n",
            "Вопрос 10/20: Какая команда используется в терминале Linux для просмотра содержимого текущей директории?\n",
            "1. rm\n",
            "2. cp\n",
            "3. cd\n",
            "4. ls\n",
            "5. mkdir\n",
            "1\n",
            "Неправильный ответ(\n",
            "\n",
            "Вопрос 11/20: Какой инструмент используется для контейнеризации приложений?\n",
            "1. Docker\n",
            "2. Kubernetes\n",
            "3. Nginx\n",
            "4. Apache\n",
            "5. Jenkins\n",
            "2\n",
            "Неправильный ответ(\n",
            "\n",
            "Вопрос 12/20: Какое ключевое слово в SQL используется для фильтрации уникальных значений?\n",
            "1. WHERE\n",
            "2. DISTINCT\n",
            "3. GROUP BY\n",
            "4. ORDER BY\n",
            "5. SELECT\n",
            "3\n",
            "Неправильный ответ(\n",
            "\n",
            "Вопрос 13/20: Какая команда в Git используется для клонирования удаленного репозитория?\n",
            "1. git init\n",
            "2. git pull\n",
            "3. git commit\n",
            "4. git clone\n",
            "5. git push\n",
            "4\n",
            "Правильный ответ!\n",
            "\n",
            "Вопрос 14/20: Какой фреймворк чаще всего используется для создания RESTful API на Python?\n",
            "1. React\n",
            "2. Vue.js\n",
            "3. Flask\n",
            "4. Django\n",
            "5. Angular\n",
            "5\n",
            "Неправильный ответ(\n",
            "\n",
            "Вопрос 15/20: Какая из перечисленных технологий является языком разметки?\n",
            "1. HTML\n",
            "2. JavaScript\n",
            "3. Python\n",
            "4. CSS\n",
            "5. PHP\n",
            "1\n",
            "Правильный ответ!\n",
            "\n",
            "Вопрос 16/20: Какая из перечисленных технологий является JavaScript-библиотекой для работы с пользовательским интерфейсом?\n",
            "1. Django\n",
            "2. Node.js\n",
            "3. React\n",
            "4. Laravel\n",
            "5. Flask\n",
            "2\n",
            "Неправильный ответ(\n",
            "\n",
            "Вопрос 17/20: Какой язык программирования чаще всего используется для создания серверной части веб-приложений?\n",
            "1. C#\n",
            "2. Swift\n",
            "3. PHP\n",
            "4. JavaScript\n",
            "5. Kotlin\n",
            "3\n",
            "Правильный ответ!\n",
            "\n",
            "Вопрос 18/20: Какой язык программирования является основным для написания смарт-контрактов в блокчейне Ethereum?\n",
            "1. C++\n",
            "2. Go\n",
            "3. Python\n",
            "4. Java\n",
            "5. Solidity\n",
            "4\n",
            "Неправильный ответ(\n",
            "\n",
            "Вопрос 19/20: Какой фреймворк является одним из самых популярных для разработки мобильных приложений на JavaScript?\n",
            "1. Flask\n",
            "2. Laravel\n",
            "3. Django\n",
            "4. Spring\n",
            "5. React Native\n",
            "5\n",
            "Правильный ответ!\n",
            "\n",
            "Вопрос 20/20: Какой язык программирования является основным для разработки приложений под Android?\n",
            "1. Ruby\n",
            "2. Kotlin\n",
            "3. Swift\n",
            "4. C#\n",
            "5. Python\n",
            "1\n",
            "Неправильный ответ(\n",
            "\n",
            "Тест завершен!\n",
            "Общее количество вопросов: 20\n",
            "Количество правильных ответов: 6\n",
            "Процент правильных ответов:  30.00%\n"
          ]
        }
      ]
    }
  ]
}