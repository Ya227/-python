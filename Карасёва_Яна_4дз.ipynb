{
  "nbformat": 4,
  "nbformat_minor": 0,
  "metadata": {
    "colab": {
      "provenance": [],
      "authorship_tag": "ABX9TyOnsghAXQkQ0FVR70I541V4",
      "include_colab_link": true
    },
    "kernelspec": {
      "name": "python3",
      "display_name": "Python 3"
    },
    "language_info": {
      "name": "python"
    }
  },
  "cells": [
    {
      "cell_type": "markdown",
      "metadata": {
        "id": "view-in-github",
        "colab_type": "text"
      },
      "source": [
        "<a href=\"https://colab.research.google.com/github/Ya227/-python/blob/main/%D0%9A%D0%B0%D1%80%D0%B0%D1%81%D1%91%D0%B2%D0%B0_%D0%AF%D0%BD%D0%B0_4%D0%B4%D0%B7.ipynb\" target=\"_parent\"><img src=\"https://colab.research.google.com/assets/colab-badge.svg\" alt=\"Open In Colab\"/></a>"
      ]
    },
    {
      "cell_type": "markdown",
      "source": [
        "# Символы и строки: группа String"
      ],
      "metadata": {
        "id": "QANQglrQ9In9"
      }
    },
    {
      "cell_type": "markdown",
      "source": [
        "Дана последовательность слов. Напечатать все слова в алфавитном порядке."
      ],
      "metadata": {
        "id": "I_fnSNevWaN7"
      }
    },
    {
      "cell_type": "code",
      "execution_count": null,
      "metadata": {
        "colab": {
          "base_uri": "https://localhost:8080/"
        },
        "id": "XzOKsgF5SWfJ",
        "outputId": "aaa6f633-6194-4c43-a79e-7b82b5fb25cc"
      },
      "outputs": [
        {
          "output_type": "stream",
          "name": "stdout",
          "text": [
            "ananas apple banan blueberry cucumber tomato\n"
          ]
        }
      ],
      "source": [
        "def sort_words(str):\n",
        "    str = str.lower()\n",
        "    mas = str.split()\n",
        "    mas.sort()\n",
        "    str = \" \".join(mas)\n",
        "    return str\n",
        "\n",
        "str = \"banan ananas apple Blueberry tomato cucumber\"\n",
        "print(sort_words(str))"
      ]
    },
    {
      "cell_type": "markdown",
      "source": [
        "Вычислить s—сумму порядковых номеров всех букв, входящих в слово SUM."
      ],
      "metadata": {
        "id": "KKFZ2AxIWgO9"
      }
    },
    {
      "cell_type": "code",
      "source": [
        "def summa_letters(str):\n",
        "    str = str.lower()\n",
        "    s = 0\n",
        "    for ch in str:\n",
        "        s = s + ord(ch) - ord('a') + 1\n",
        "    return s\n",
        "\n",
        "SUM = \"AbCdEf\"\n",
        "print(summa_letters(SUM))"
      ],
      "metadata": {
        "colab": {
          "base_uri": "https://localhost:8080/"
        },
        "id": "JeEJE2EdZvCy",
        "outputId": "c2376b6b-0ad4-4011-b17a-92b3e98226e0"
      },
      "execution_count": null,
      "outputs": [
        {
          "output_type": "stream",
          "name": "stdout",
          "text": [
            "21\n"
          ]
        }
      ]
    },
    {
      "cell_type": "markdown",
      "source": [
        "Используя только литерный ввод, т. е. процедуру read(c), где с—литерная переменная, ввести непустую последовательность цифр, перед которой может находиться знак “+” или “—” и за которой следует пробел, и, получив соответствующее целое число, присвоить его целой временной k."
      ],
      "metadata": {
        "id": "hQ2i7ei-fNcz"
      }
    },
    {
      "cell_type": "code",
      "source": [
        "def read_int():\n",
        "    c = input()\n",
        "    k = 0\n",
        "    for ch in c:\n",
        "        if ch == '+':\n",
        "            sign = 1\n",
        "        elif ch == '-':\n",
        "            sign = -1\n",
        "        elif 0 <= ord(ch) - ord('0') <= 9:\n",
        "            k = (k*10) + ord(ch) - ord('0')\n",
        "    k *= sign\n",
        "    return k\n",
        "\n",
        "print(read_int())"
      ],
      "metadata": {
        "colab": {
          "base_uri": "https://localhost:8080/"
        },
        "id": "lrg-PZKYfN5G",
        "outputId": "b8636d93-dc55-4102-be76-968428e174e1"
      },
      "execution_count": null,
      "outputs": [
        {
          "output_type": "stream",
          "name": "stdout",
          "text": [
            "- 123456\n",
            "-123456\n"
          ]
        }
      ]
    },
    {
      "cell_type": "markdown",
      "source": [
        "# Текстовые файлы: группа Text"
      ],
      "metadata": {
        "id": "h4Sn4lZPfTcn"
      }
    },
    {
      "cell_type": "markdown",
      "source": [
        "Дан строковый файл. Создать новый строковый файл, содержащий все строки исходного файла наибольшей длины (в обратном порядке)."
      ],
      "metadata": {
        "id": "PpYD713g9XHT"
      }
    },
    {
      "cell_type": "code",
      "source": [
        "def f(file1, file2):\n",
        "    with open(file1, 'r') as infile, open(file2, 'w') as outfile:\n",
        "        lines = infile.readlines()\n",
        "        maxlen = 0\n",
        "        for line in lines:\n",
        "            maxlen = max(maxlen, len(line.strip()))\n",
        "        newline = []\n",
        "        for line in lines:\n",
        "            if(len(line.strip()) == maxlen):\n",
        "                newline.append(line)\n",
        "        newline.reverse()\n",
        "        outfile.writelines(newline)\n",
        "\n",
        "file1 = \"infile1.txt\"\n",
        "file2 = \"outfile1.txt\"\n",
        "f(file1, file2)"
      ],
      "metadata": {
        "id": "NxN2b0RWINLF"
      },
      "execution_count": 6,
      "outputs": []
    },
    {
      "cell_type": "markdown",
      "source": [
        "Дан файл целых чисел, содержащий четное количество элементов. Удалить из данного файла первую половину элементов."
      ],
      "metadata": {
        "id": "9uiwzD7YJ1TU"
      }
    },
    {
      "cell_type": "code",
      "source": [
        "def f(file1, file2):\n",
        "    with open(file1, 'r') as infile, open(file2, 'w') as outfile:\n",
        "        number = []\n",
        "        for line in infile:\n",
        "            number.append(int(line.strip()))\n",
        "        newf = number[len(number)//2:]\n",
        "        for num in newf:\n",
        "            outfile.write(str(num) + '\\n')\n",
        "\n",
        "file1 = \"infile2.txt\"\n",
        "file2 = \"outfile2.txt\"\n",
        "f(file1, file2)"
      ],
      "metadata": {
        "id": "jChe-68IOiTz"
      },
      "execution_count": 7,
      "outputs": []
    },
    {
      "cell_type": "markdown",
      "source": [
        "Дан файл целых чисел. Найти количество содержащихся в нем серий (то есть наборов последовательно расположенных одинаковых элементов). Например, для файла с элементами 1, 5, 5, 5, 4, 4, 5 результат равен 4."
      ],
      "metadata": {
        "id": "Vbw1jDiSOu49"
      }
    },
    {
      "cell_type": "code",
      "source": [
        "def f(file1):\n",
        "    with open(file1, 'r') as infile:\n",
        "        number = []\n",
        "        for line in infile:\n",
        "            number.append(int(line.strip()))\n",
        "        series = 1\n",
        "        for i in range(1, len(number)):\n",
        "            if number[i] != number[i - 1]:\n",
        "                series += 1\n",
        "        return series\n",
        "\n",
        "file1 = \"infile3.txt\"\n",
        "print(f(file1))"
      ],
      "metadata": {
        "id": "miDGq9ihVbmd"
      },
      "execution_count": null,
      "outputs": []
    }
  ]
}