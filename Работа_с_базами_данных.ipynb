{
  "nbformat": 4,
  "nbformat_minor": 0,
  "metadata": {
    "colab": {
      "provenance": [],
      "authorship_tag": "ABX9TyO2NR4UUokKzgIQHi1I0+Pn",
      "include_colab_link": true
    },
    "kernelspec": {
      "name": "python3",
      "display_name": "Python 3"
    },
    "language_info": {
      "name": "python"
    }
  },
  "cells": [
    {
      "cell_type": "markdown",
      "metadata": {
        "id": "view-in-github",
        "colab_type": "text"
      },
      "source": [
        "<a href=\"https://colab.research.google.com/github/Ya227/-python/blob/main/%D0%A0%D0%B0%D0%B1%D0%BE%D1%82%D0%B0_%D1%81_%D0%B1%D0%B0%D0%B7%D0%B0%D0%BC%D0%B8_%D0%B4%D0%B0%D0%BD%D0%BD%D1%8B%D1%85.ipynb\" target=\"_parent\"><img src=\"https://colab.research.google.com/assets/colab-badge.svg\" alt=\"Open In Colab\"/></a>"
      ]
    },
    {
      "cell_type": "markdown",
      "source": [
        "1. **Создание базы данных и таблиц**\n",
        "\n",
        "Создайте базу данных library.db и таблицу books с полями:\n",
        "\n",
        "*   id (PRIMARY KEY, AUTOINCREMENT),\n",
        "*   title (TEXT, NOT NULL),\n",
        "*   author (TEXT, NOT NULL),\n",
        "*   year_published (INTEGER),\n",
        "*   genre (TEXT)."
      ],
      "metadata": {
        "id": "4yfHtJnhhx1T"
      }
    },
    {
      "cell_type": "code",
      "execution_count": null,
      "metadata": {
        "id": "jg7HKGtLhp52"
      },
      "outputs": [],
      "source": [
        "import sqlite3\n",
        "\n",
        "connection = sqlite3.connect('library.db')\n",
        "cursor = connection.cursor()\n",
        "create_table = '''\n",
        "CREATE TABLE IF NOT EXISTS books (\n",
        "    id INTEGER PRIMARY KEY AUTOINCREMENT,\n",
        "    title TEXT NOT NULL,\n",
        "    author TEXT NOT NULL,\n",
        "    year_published INTEGER,\n",
        "    genre TEXT\n",
        ");\n",
        "'''\n",
        "cursor.execute(create_table)\n",
        "connection.commit()\n",
        "connection.close()"
      ]
    },
    {
      "cell_type": "markdown",
      "source": [
        "2. **Вставка данных**\n",
        "\n",
        "Добавьте в таблицу books следующие записи:\n",
        "\n",
        "* \"The Great Gatsby\", автор: F. Scott\n",
        "Fitzgerald, год: 1925, жанр: Fiction.\n",
        "* \"1984\", автор: George Orwell, год: 1949, жанр: Dystopian.\n",
        "* \"To Kill a Mockingbird\", автор: Harper Lee, год: 1960, жанр: Classic"
      ],
      "metadata": {
        "id": "0MDuC4Bsi61z"
      }
    },
    {
      "cell_type": "code",
      "source": [
        "import sqlite3\n",
        "\n",
        "connection = sqlite3.connect('library.db')\n",
        "cursor = connection.cursor()\n",
        "insert_query = '''\n",
        "INSERT INTO books (title, author, year_published, genre)\n",
        "VALUES (?, ?, ?, ?);\n",
        "'''\n",
        "books_data = [\n",
        "    ('\"The Great Gatsby\"', 'F.Scott Fitzgerald', 1925, 'Fiction'),\n",
        "    ('\"1984\"', 'George Orwell', 1949, 'Dystopian'),\n",
        "    ('\"To Kill a Mockingbird\"', 'Harper Lee', 1960, 'Classic')\n",
        "]\n",
        "cursor.executemany(insert_query, books_data)\n",
        "connection.commit()\n",
        "connection.close()"
      ],
      "metadata": {
        "id": "Cm2H09tbiXnf"
      },
      "execution_count": null,
      "outputs": []
    },
    {
      "cell_type": "markdown",
      "source": [
        "3. **Выборка всех данных**\n",
        "\n",
        "Напишите запрос, который выбирает все книги из таблицы books."
      ],
      "metadata": {
        "id": "VYRPXNT8my-L"
      }
    },
    {
      "cell_type": "code",
      "source": [
        "import sqlite3\n",
        "\n",
        "connection = sqlite3.connect('library.db')\n",
        "cursor = connection.cursor()\n",
        "select_query = '''\n",
        "SELECT *FROM books;\n",
        "'''\n",
        "cursor.execute(select_query)\n",
        "rows = cursor.fetchall()\n",
        "for row in rows:\n",
        "    print(row)\n",
        "connection.close()"
      ],
      "metadata": {
        "id": "swlQ_EB4nt90"
      },
      "execution_count": null,
      "outputs": []
    },
    {
      "cell_type": "markdown",
      "source": [
        "4. **Фильтрация данных**\n",
        "\n",
        "Выберите все книги, опубликованные после 1950 года."
      ],
      "metadata": {
        "id": "7UXS16Z7nyyN"
      }
    },
    {
      "cell_type": "code",
      "source": [
        "import sqlite3\n",
        "\n",
        "connection = sqlite3.connect('library.db')\n",
        "cursor = connection.cursor()\n",
        "select_query = '''\n",
        "SELECT *FROM books\n",
        "WHERE year_published >= 1950\n",
        "'''\n",
        "cursor.execute(select_query)\n",
        "rows = cursor.fetchall()\n",
        "for row in rows:\n",
        "    print(row)\n",
        "connection.close()"
      ],
      "metadata": {
        "id": "xOZZVKt4n0oR"
      },
      "execution_count": null,
      "outputs": []
    },
    {
      "cell_type": "markdown",
      "source": [
        "5. **Использование оператора LIKE**\n",
        "\n",
        "Найдите все книги, название которых начинается с буквы \"T\"."
      ],
      "metadata": {
        "id": "comDyygf0quG"
      }
    },
    {
      "cell_type": "code",
      "source": [
        "import sqlite3\n",
        "\n",
        "connection = sqlite3.connect('library.db')\n",
        "cursor = connection.cursor()\n",
        "select_query = '''\n",
        "SELECT *FROM books\n",
        "WHERE title LIKE ?\n",
        "'''\n",
        "search_pattern = '_T%'\n",
        "cursor.execute(select_query, (search_pattern,))\n",
        "rows = cursor.fetchall()\n",
        "for row in rows:\n",
        "    print(row)\n",
        "connection.close()"
      ],
      "metadata": {
        "id": "8TpPuc9s0rm7"
      },
      "execution_count": null,
      "outputs": []
    },
    {
      "cell_type": "markdown",
      "source": [
        "6. **Сортировка данных**\n",
        "\n",
        "Отсортируйте книги по году публикации в порядке возрастания."
      ],
      "metadata": {
        "id": "qt9EcLnP8Ye1"
      }
    },
    {
      "cell_type": "code",
      "source": [
        "import sqlite3\n",
        "\n",
        "connection = sqlite3.connect('library.db')\n",
        "cursor = connection.cursor()\n",
        "select_query = '''\n",
        "SELECT *FROM books\n",
        "ORDER BY year_published ASC\n",
        "'''\n",
        "cursor.execute(select_query)\n",
        "rows = cursor.fetchall()\n",
        "for row in rows:\n",
        "    print(row)\n",
        "connection.close()"
      ],
      "metadata": {
        "id": "ItBWPOrK8daN"
      },
      "execution_count": null,
      "outputs": []
    },
    {
      "cell_type": "markdown",
      "source": [
        "7. **Ограничение количества строк**\n",
        "\n",
        "Выберите первые две книги из таблицы books, отсортированные по названию."
      ],
      "metadata": {
        "id": "hDitBUgd9BDV"
      }
    },
    {
      "cell_type": "code",
      "source": [
        "import sqlite3\n",
        "\n",
        "connection = sqlite3.connect('library.db')\n",
        "cursor = connection.cursor()\n",
        "select_query = '''\n",
        "SELECT *FROM books\n",
        "ORDER BY title ASC\n",
        "LIMIT 2\n",
        "'''\n",
        "cursor.execute(select_query)\n",
        "rows = cursor.fetchall()\n",
        "for row in rows:\n",
        "    print(row)\n",
        "connection.close()"
      ],
      "metadata": {
        "id": "w8c-SaTm94XN"
      },
      "execution_count": null,
      "outputs": []
    },
    {
      "cell_type": "markdown",
      "source": [
        "8. **Агрегатные функции**\n",
        "\n",
        "Подсчитайте общее количество книг в таблице books."
      ],
      "metadata": {
        "id": "HJx86BoM93SL"
      }
    },
    {
      "cell_type": "code",
      "source": [
        "import sqlite3\n",
        "\n",
        "connection = sqlite3.connect('library.db')\n",
        "cursor = connection.cursor()\n",
        "select_query = '''\n",
        "SELECT COUNT(*) FROM books\n",
        "'''\n",
        "cursor.execute(select_query)\n",
        "rows = cursor.fetchall()\n",
        "for row in rows:\n",
        "    print(row)\n",
        "connection.close()"
      ],
      "metadata": {
        "id": "4o08S4-F9DRA"
      },
      "execution_count": null,
      "outputs": []
    },
    {
      "cell_type": "markdown",
      "source": [
        "9. **Группировка данных**\n",
        "\n",
        "Подсчитайте количество книг для каждого жанра."
      ],
      "metadata": {
        "id": "jQvVWTIx-qYo"
      }
    },
    {
      "cell_type": "code",
      "source": [
        "import sqlite3\n",
        "\n",
        "connection = sqlite3.connect('library.db')\n",
        "cursor = connection.cursor()\n",
        "select_query = '''\n",
        "SELECT genre, COUNT(*) AS count FROM books GROUP BY genre\n",
        "'''\n",
        "cursor.execute(select_query)\n",
        "rows = cursor.fetchall()\n",
        "for row in rows:\n",
        "    print(f\"Жанр: {row[0]}, Количество: {row[1]}\")\n",
        "connection.close()"
      ],
      "metadata": {
        "id": "cVYzIMNj-uc5"
      },
      "execution_count": null,
      "outputs": []
    },
    {
      "cell_type": "markdown",
      "source": [
        "10. **Обновление данных**\n",
        "\n",
        "Обновите год публикации книги \"1984\" на 1948."
      ],
      "metadata": {
        "id": "49L_CuG3_l5X"
      }
    },
    {
      "cell_type": "code",
      "source": [
        "import sqlite3\n",
        "\n",
        "connection = sqlite3.connect('library.db')\n",
        "cursor = connection.cursor()\n",
        "update_quary = '''\n",
        "UPDATE books\n",
        "SET year_published = 1948\n",
        "WHERE title = '1984'\n",
        "'''\n",
        "cursor.execute(update_quary)\n",
        "connection.commit()\n",
        "connection.close()"
      ],
      "metadata": {
        "id": "98lhw2EV_ohd"
      },
      "execution_count": null,
      "outputs": []
    },
    {
      "cell_type": "markdown",
      "source": [
        "11. **Удаление данных**\n",
        "\n",
        "Удалите книгу с названием \"The Great Gatsby\"."
      ],
      "metadata": {
        "id": "bE215021A3qa"
      }
    },
    {
      "cell_type": "code",
      "source": [
        "import sqlite3\n",
        "\n",
        "connection = sqlite3.connect('library.db')\n",
        "cursor = connection.cursor()\n",
        "delete_quary = '''\n",
        "DELETE FROM books\n",
        "WHERE title = 'The Great Gatsby'\n",
        "'''\n",
        "cursor.execute(delete_quary)\n",
        "connection.commit()\n",
        "connection.close()"
      ],
      "metadata": {
        "id": "gY0EXX65A5v3"
      },
      "execution_count": null,
      "outputs": []
    },
    {
      "cell_type": "markdown",
      "source": [
        "12. **Создание индекса**\n",
        "\n",
        "Создайте индекс для столбца author в таблице books."
      ],
      "metadata": {
        "id": "nt0eyVZ3Be9e"
      }
    },
    {
      "cell_type": "code",
      "source": [
        "import sqlite3\n",
        "\n",
        "connection = sqlite3.connect('library.db')\n",
        "cursor = connection.cursor()\n",
        "index_quary = '''\n",
        "CREATE INDEX books_author\n",
        "ON books (author)\n",
        "'''\n",
        "cursor.execute(index_quary)\n",
        "connection.commit()\n",
        "connection.close()"
      ],
      "metadata": {
        "id": "E8cgt5ZQBhaZ"
      },
      "execution_count": null,
      "outputs": []
    },
    {
      "cell_type": "markdown",
      "source": [
        "13. **Проверка существования индекса**\n",
        "\n",
        "Проверьте, существует ли индекс для столбца author."
      ],
      "metadata": {
        "id": "2O_m_d9tCwzj"
      }
    },
    {
      "cell_type": "code",
      "source": [
        "import sqlite3\n",
        "\n",
        "connection = sqlite3.connect('library.db')\n",
        "cursor = connection.cursor()\n",
        "index_quary = '''\n",
        "SELECT name FROM sqlite_master\n",
        "WHERE type='index' AND name='books_author'\n",
        "'''\n",
        "cursor.execute(index_quary)\n",
        "res = cursor.fetchone()\n",
        "if res:\n",
        "    print(\"Индекс существует\")\n",
        "else:\n",
        "    print(\"Индекс не существует\")\n",
        "connection.close()"
      ],
      "metadata": {
        "id": "E8keZ4gICyyI"
      },
      "execution_count": null,
      "outputs": []
    },
    {
      "cell_type": "markdown",
      "source": [
        "14. **Триггер для логирования**\n",
        "\n",
        "Создайте триггер, который записывает изменения в таблицу logs при добавлении новой книги."
      ],
      "metadata": {
        "id": "PEOB1j2tD8vb"
      }
    },
    {
      "cell_type": "code",
      "source": [
        "import sqlite3\n",
        "\n",
        "connection = sqlite3.connect('library.db')\n",
        "cursor = connection.cursor()\n",
        "new_quary = '''\n",
        "CREATE TABLE IF NOT EXISTS logs (\n",
        "    id INTEGER PRIMARY KEY AUTOINCREMENT,\n",
        "    book_id INTEGER,\n",
        "    action TEXT,\n",
        "    timestamp DATETIME DEFAULT CURRENT_TIMESTAMP\n",
        ")\n",
        "'''\n",
        "trigger_quary = '''\n",
        "CREATE TRIGGER IF NOT EXISTS books_log\n",
        "AFTER INSERT ON books\n",
        "FOR EACH ROW\n",
        "BEGIN\n",
        "    INSERT INTO logs (book_id, action)\n",
        "    VALUES (NEW.id, 'INSERT');\n",
        "END;\n",
        "'''\n",
        "cursor.execute(new_quary)\n",
        "cursor.execute(trigger_quary)\n",
        "connection.commit()\n",
        "connection.close()"
      ],
      "metadata": {
        "id": "jBlrpEhDECZC"
      },
      "execution_count": null,
      "outputs": []
    },
    {
      "cell_type": "markdown",
      "source": [
        "15. **Транзакции**\n",
        "\n",
        "Создайте программу, которая выполняет следующие действия в рамках одной транзакции:\n",
        "*   Добавляет новую книгу.\n",
        "*   Обновляет год публикации другой книги.\n",
        "*   Отменяет изменения, если возникает ошибка."
      ],
      "metadata": {
        "id": "kqhX5DNDHIqS"
      }
    },
    {
      "cell_type": "code",
      "source": [
        "import sqlite3\n",
        "\n",
        "connection = sqlite3.connect('library.db')\n",
        "cursor = connection.cursor()\n",
        "\n",
        "try:\n",
        "    cursor.execute('BEGIN TRANSACTION')\n",
        "\n",
        "    cursor.execute('''\n",
        "    INSERT INTO books (title, author, year_published, genre)\n",
        "    VALUES (?, ?, ?, ?)\n",
        "    ''', ('The Great Gatsby', 'F. Scott Fitzgerald', 1925, 'Fiction'))\n",
        "\n",
        "    cursor.execute('''\n",
        "    UPDATE books\n",
        "    SET year_published = 1949\n",
        "    WHERE title = '1984';\n",
        "    ''')\n",
        "\n",
        "    connection.commit()\n",
        "    print('Good')\n",
        "except Exception as e:\n",
        "    connection.rollback()\n",
        "    print('No good', e)\n",
        "finally:\n",
        "    connection.close()"
      ],
      "metadata": {
        "id": "aJjgwTl1HbrW"
      },
      "execution_count": null,
      "outputs": []
    },
    {
      "cell_type": "markdown",
      "source": [
        "16. **Пользовательская функция**\n",
        "\n",
        "Создайте пользовательскую функцию на Python, которая вычисляет возраст книги (текущий год минус год публикации), и используйте её в SQL-запросе."
      ],
      "metadata": {
        "id": "qNhmatrBLEHo"
      }
    },
    {
      "cell_type": "code",
      "source": [
        "import sqlite3\n",
        "\n",
        "def calculate_age(old_year):\n",
        "    from datetime import datetime\n",
        "    now_year = datetime.now().year\n",
        "    return now_year - old_year\n",
        "\n",
        "connection = sqlite3.connect('library.db')\n",
        "cursor = connection.cursor()\n",
        "connection.create_function(\"calculate_age\", 1, calculate_age)\n",
        "cursor.execute('''\n",
        "SELECT title, calculate_age(year_published) AS year_published FROM books\n",
        "''')\n",
        "rows = cursor.fetchall()\n",
        "for row in rows:\n",
        "    print(row)\n",
        "connection.close()"
      ],
      "metadata": {
        "id": "4l8-lw_ULNiG"
      },
      "execution_count": null,
      "outputs": []
    },
    {
      "cell_type": "markdown",
      "source": [
        "17. **Представления**\n",
        "\n",
        "Создайте представление modern_books, которое содержит книги, опубликованные после 1950 года."
      ],
      "metadata": {
        "id": "3gpGVBfrMuCr"
      }
    },
    {
      "cell_type": "code",
      "source": [
        "import sqlite3\n",
        "\n",
        "connection = sqlite3.connect('library.db')\n",
        "cursor = connection.cursor()\n",
        "cursor.execute('''\n",
        "CREATE VIEW IF NOT EXISTS after_1950\n",
        "AS SELECT *FROM books\n",
        "WHERE year_published > 1950\n",
        "''')\n",
        "cursor.execute('SELECT * FROM after_1950')\n",
        "rows = cursor.fetchall()\n",
        "for row in rows:\n",
        "    print(row)\n",
        "connection.close()"
      ],
      "metadata": {
        "id": "7WHCq6ewMxfL"
      },
      "execution_count": null,
      "outputs": []
    },
    {
      "cell_type": "markdown",
      "source": [
        "19. **Композитный индекс**\n",
        "\n",
        "Создайте композитный индекс для столбцов author и year_published в таблице books."
      ],
      "metadata": {
        "id": "NaBsd1SBNfEd"
      }
    },
    {
      "cell_type": "code",
      "source": [
        "import sqlite3\n",
        "\n",
        "connection = sqlite3.connect('library.db')\n",
        "cursor = connection.cursor()\n",
        "index_query = '''\n",
        "CREATE INDEX IF NOT EXISTS idx_author_year\n",
        "ON books(author, year_published)\n",
        "'''\n",
        "cursor.execute(index_query)\n",
        "connection.commit()\n",
        "connection.close()"
      ],
      "metadata": {
        "id": "JCIHGb3-NlqK"
      },
      "execution_count": null,
      "outputs": []
    },
    {
      "cell_type": "markdown",
      "source": [
        "18. **Удаление таблицы**\n",
        "\n",
        "Удалите таблицу books и проверьте её существование."
      ],
      "metadata": {
        "id": "TKQRUu_uOOiN"
      }
    },
    {
      "cell_type": "code",
      "source": [
        "import sqlite3\n",
        "\n",
        "connection = sqlite3.connect('library.db')\n",
        "cursor = connection.cursor()\n",
        "del_query = '''\n",
        "DROP TABLE IF EXISTS books\n",
        "'''\n",
        "cursor.execute(del_query)\n",
        "connection.commit()\n",
        "cursor.execute('''\n",
        "SELECT name FROM sqlite_master WHERE type='table' AND name='books'\n",
        "''')\n",
        "res = cursor.fetchone()\n",
        "if res:\n",
        "    print(\"Таблица есть\")\n",
        "else:\n",
        "    print(\"Таблицы нет\")\n",
        "connection.close()"
      ],
      "metadata": {
        "id": "I_S25pvnPGi9"
      },
      "execution_count": null,
      "outputs": []
    },
    {
      "cell_type": "markdown",
      "source": [
        "20. **Удаление базы данных**\n",
        "\n",
        "Напишите программу, которая удаляет файл базы данных library.db, если он существует."
      ],
      "metadata": {
        "id": "z5BwKLm6PJ-G"
      }
    },
    {
      "cell_type": "code",
      "source": [
        "import os\n",
        "\n",
        "file = 'library.db'\n",
        "if os.path.exists(file):\n",
        "    print(\"Удаляем базу данных\")\n",
        "    os.remove(file)\n",
        "else:\n",
        "    print(\"Базы данных нет\")"
      ],
      "metadata": {
        "id": "SuCyWAeyPLzp"
      },
      "execution_count": null,
      "outputs": []
    }
  ]
}